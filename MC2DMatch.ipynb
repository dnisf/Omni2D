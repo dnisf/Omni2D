{
 "cells": [
  {
   "cell_type": "code",
   "execution_count": 2,
   "metadata": {
    "ExecuteTime": {
     "end_time": "2020-11-17T03:48:59.924067Z",
     "start_time": "2020-11-17T03:48:57.190005Z"
    }
   },
   "outputs": [],
   "source": [
    "import numpy as np\n",
    "import uproot\n",
    "import aiohttp\n",
    "from matplotlib import pyplot as plt\n",
    "import awkward as ak\n",
    "from keras.layers import Dense, Input\n",
    "from keras.models import Model\n",
    "\n",
    "import omnifold as of\n",
    "import os\n",
    "import tensorflow as tf\n",
    "import coffea\n",
    "from coffea.nanoevents import NanoEventsFactory, NanoAODSchema\n",
    "\n",
    "#####\n",
    "#Delta R matched"
   ]
  },
  {
   "cell_type": "code",
   "execution_count": 3,
   "metadata": {},
   "outputs": [],
   "source": [
    "stuff = np.random.normal( loc=[1.1, 1.8], scale=[0.8,0.5], size=(100000, 2) )"
   ]
  },
  {
   "cell_type": "code",
   "execution_count": 4,
   "metadata": {},
   "outputs": [
    {
     "name": "stdout",
     "output_type": "stream",
     "text": [
      "['/device:CPU:0', '/device:GPU:0']\n",
      "[PhysicalDevice(name='/physical_device:GPU:0', device_type='GPU')]\n"
     ]
    },
    {
     "name": "stderr",
     "output_type": "stream",
     "text": [
      "2024-04-25 10:38:30.592137: I metal_plugin/src/device/metal_device.cc:1154] Metal device set to: Apple M2\n",
      "2024-04-25 10:38:30.592153: I metal_plugin/src/device/metal_device.cc:296] systemMemory: 8.00 GB\n",
      "2024-04-25 10:38:30.592162: I metal_plugin/src/device/metal_device.cc:313] maxCacheSize: 2.67 GB\n",
      "2024-04-25 10:38:30.592214: I tensorflow/core/common_runtime/pluggable_device/pluggable_device_factory.cc:303] Could not identify NUMA node of platform GPU ID 0, defaulting to 0. Your kernel may not have been built with NUMA support.\n",
      "2024-04-25 10:38:30.592243: I tensorflow/core/common_runtime/pluggable_device/pluggable_device_factory.cc:269] Created TensorFlow device (/device:GPU:0 with 0 MB memory) -> physical PluggableDevice (device: 0, name: METAL, pci bus id: <undefined>)\n"
     ]
    }
   ],
   "source": [
    "from tensorflow.python.client import device_lib\n",
    "\n",
    "def get_available_devices():\n",
    "    local_device_protos = device_lib.list_local_devices()\n",
    "    return [x.name for x in local_device_protos]\n",
    "\n",
    "print(get_available_devices())\n",
    "print(tf.config.list_physical_devices('GPU'))"
   ]
  },
  {
   "cell_type": "code",
   "execution_count": 5,
   "metadata": {},
   "outputs": [
    {
     "name": "stdout",
     "output_type": "stream",
     "text": [
      "[PhysicalDevice(name='/physical_device:GPU:0', device_type='GPU')]\n"
     ]
    }
   ],
   "source": [
    "gpus = tf.config.experimental.list_physical_devices('GPU')\n",
    "print(gpus)\n",
    "#tf.config.experimental.set_virtual_device_configuration(\n",
    "#    gpus[1],[tf.config.experimental.VirtualDeviceConfiguration(memory_limit=1024)]) #in MB"
   ]
  },
  {
   "cell_type": "code",
   "execution_count": 6,
   "metadata": {},
   "outputs": [],
   "source": [
    "def synthroot(filename, data, data2):\n",
    "    with uproot.recreate(filename) as file:\n",
    "        file[\"testree\"] = {\"theta0\": data, \"theta_unknown_S\": data2}\n",
    "        file[\"twotree\"] = {\"theta0Z\": data, \"thetaUS\": data2}\n"
   ]
  },
  {
   "cell_type": "code",
   "execution_count": 8,
   "metadata": {},
   "outputs": [
    {
     "name": "stdout",
     "output_type": "stream",
     "text": [
      "[0.0152, 0.0138, 0.00787, 0.028, 0.0116, ... 0.00176, 0.0116, 0.00769, 0.0143]\n",
      "[0.0152, 0.0138, 0.00787, 0.028, 0.0116, ... 0.00176, 0.0116, 0.00769, 0.0143]\n",
      "True\n",
      "[0.0152, 1.99, 0.00787, 0.00693, 0.0116, ... 0.00176, 0.0116, 0.00769, 0.0143]\n",
      "[0.0152, 1.99, 0.00787, 3.35, 0.0116, ... 3.14, 0.00176, 0.0116, 0.00769, 0.0143]\n",
      "False\n",
      "NUM: [2, 1, 2, 2, 2, 2, 2, 2, 2, 2, 2, 3, 1, 2, ... 2, 3, 2, 2, 2, 2, 2, 2, 2, 3, 3, 2, 2]\n",
      "True\n",
      "No Nones PT: True\n",
      "No Nones Mass: True\n",
      "[379, 175, 1.37e+03, 697, 921, 345, ... 4.36e+03, 662, 2.3e+03, 5.96e+03, 2.91e+03]\n",
      "No Nones PT: True\n",
      "No Nones Mass: True\n",
      "150396\n",
      "CLEAR\n"
     ]
    }
   ],
   "source": [
    "#############\n",
    "##### Deep Clean\n",
    "###\n",
    "\n",
    "#coffea init\n",
    "cofevents = NanoEventsFactory.from_root('QCD_pt.root', schemaclass=NanoAODSchema).events()\n",
    "#### to print available keys\n",
    "\n",
    "# Filter 0s \n",
    "cevents = cofevents[ak.num(cofevents.FatJet)>0]\n",
    "cevents = cevents[ak.num(cevents.GenJetAK8)>0]\n",
    "fj = cevents.FatJet\n",
    "gj = cevents.GenJetAK8\n",
    "\n",
    "\n",
    "#this should give fatjets closest to genjets, and since genjets are already stripped of zeroes, this should just line up (pfft just kidding)\n",
    "deltarray = cevents.GenJetAK8.nearest(cevents.FatJet)[:,0]\n",
    "deltaR = cevents.GenJetAK8[:,0].delta_r(cevents.GenJetAK8.nearest(cevents.FatJet)[:,0])\n",
    "deltar = gj[:,0].delta_r(gj.nearest(fj[:]))\n",
    "\n",
    "fatster = fj[:, 0]\n",
    "qmatch = fj.matched_gen #retrieves matched genjet ID'd to fatjet, qmatch IS a PhiEtaMCollection Array and is a genjet\n",
    "\n",
    "#proving nearest fj to each qmatch is just the normally ordered fj\n",
    "qdelt = qmatch[:,0].delta_r(qmatch.nearest(fj)[:,0])\n",
    "qdelter = qmatch[:,0].delta_r(fj[:,0])\n",
    "print(qdelt)\n",
    "print(qdelter)\n",
    "pdq = (qdelt == qdelter)\n",
    "print(ak.all(pdq))\n",
    "\n",
    "delt = gj[:,0].delta_r(gj.nearest(fj)[:,0])\n",
    "delter = gj[:,0].delta_r(fj[:,0])\n",
    "print(delt)\n",
    "print(delter)\n",
    "adq = (delt == delter)\n",
    "print(ak.all(adq))\n",
    "\n",
    "# pdq is True => qmatch is 1:1 matched with fj, adq is not\n",
    "# Therefore, we will use qmatch as the default genjet instead of gj = cevents.GenJetAK8\n",
    "# We can continue to use fj = cevents.FatJet as this is matched with qmatch\n",
    "\n",
    "# Proving there are no None values and all values of the matched retain the properties of the 0 filtering done earlier\n",
    "print(\"NUM:\", ak.num(qmatch.mass))\n",
    "print(ak.all(ak.num(qmatch.mass)>0))\n",
    "\n",
    "print(\"No Nones PT:\", ak.all(qmatch.pt[:,0] != None))\n",
    "print(\"No Nones Mass:\", ak.all(qmatch.mass[:,0] != None))\n",
    "\n",
    "#Assignment using fj and qmatch for our fat (reco) and gen respectively, using leading jets\n",
    "print(qmatch.pt[:,0])\n",
    "jet_recopt = ak.to_numpy(fj[:,0].pt)\n",
    "jet_recomass = ak.to_numpy(fj[:,0].mass)\n",
    "jet_genpt = ak.to_numpy(qmatch[:,0].pt)\n",
    "jet_genmass = ak.to_numpy(qmatch[:,0].mass)\n",
    "\n",
    "#Ensuring no Nones have made it in during conversion \n",
    "print(\"No Nones PT:\", ak.all(jet_genpt != None))\n",
    "print(\"No Nones Mass:\", ak.all(jet_genpt != None))\n",
    "\n",
    "jetarr = [jet_recopt, jet_recomass, jet_genpt, jet_genmass]\n",
    "\n",
    "amt = len(jet_genmass)//2\n",
    "\n",
    "\n",
    "jet_recophi = fj.phi\n",
    "jet_recoeta = fj.eta\n",
    "jet_geneta = qmatch.eta\n",
    "jet_genphi = qmatch.phi\n",
    "#jet_genpt = quantvals[-2]\n",
    "\n",
    "print(amt)\n",
    "theta0_G = np.column_stack((\n",
    "    jet_genmass[:amt],   # 1 dee\n",
    "    jet_genpt[:amt]    # 2 dee\n",
    "))\n",
    "\n",
    "theta0_S = np.column_stack((\n",
    "    jet_recomass[:amt],   # 1 dee\n",
    "    jet_recopt[:amt]    # 2 dee\n",
    "))\n",
    "\n",
    "\n",
    "# Natural\n",
    "theta_unknown_G = np.column_stack([\n",
    "    jet_genmass[amt:],   # 1 dee\n",
    "    jet_genpt[amt:]    # 2 dee\n",
    "])\n",
    "\n",
    "theta_unknown_S = np.column_stack([\n",
    "    jet_recomass[amt:],   # 1 dee\n",
    "    jet_recopt[amt:]    # 2 dee\n",
    "])\n",
    "\n",
    "theta0 = np.stack((theta0_G, theta0_S), axis=1)\n",
    "\n",
    "print(\"CLEAR\")"
   ]
  },
  {
   "cell_type": "code",
   "execution_count": null,
   "metadata": {},
   "outputs": [],
   "source": []
  },
  {
   "cell_type": "code",
   "execution_count": 9,
   "metadata": {
    "ExecuteTime": {
     "end_time": "2020-11-17T03:49:24.308730Z",
     "start_time": "2020-11-17T03:48:59.981078Z"
    }
   },
   "outputs": [
    {
     "name": "stdout",
     "output_type": "stream",
     "text": [
      "tk8\n",
      "[True, True, False, True, False, False, ... True, True, True, True, True, True]\n",
      "tes\n",
      "[[], [], [392, 363], [], ... 242], [6.18e+03, 6.18e+03], [2.86e+03, 2.42e+03]]\n",
      "tpt\n",
      "[False, False, True, False, True, True, True, ... True, True, True, True, True, True]\n",
      "[[392, 363], [189], [1.45e+03, ... [6.18e+03, 6.18e+03], [2.86e+03, 2.42e+03]]\n",
      "FatJet_pt\n",
      "GenJetAK8_mass\n",
      "FatJet_mass\n",
      "GenJetAK8_pt\n",
      "FatJet_phi\n",
      "GenJetAK8_phi\n",
      "FatJet_eta\n",
      "GenJetAK8_eta\n",
      "GenJetAK8_eta\n",
      "FatJet_eta\n",
      "GenJetAK8_phi\n",
      "FatJet_phi\n",
      "GenJetAK8_pt\n",
      "FatJet_mass\n",
      "GenJetAK8_mass\n",
      "FatJet_pt\n",
      "LOOP DONE\n",
      "[[392], [189], [1.45e+03], [778], ... [668], [2.34e+03], [6.18e+03], [2.86e+03]]\n"
     ]
    }
   ],
   "source": []
  },
  {
   "cell_type": "code",
   "execution_count": 10,
   "metadata": {},
   "outputs": [],
   "source": [
    "amt = len(jet_genmass)//2"
   ]
  },
  {
   "cell_type": "code",
   "execution_count": 11,
   "metadata": {},
   "outputs": [
    {
     "name": "stdout",
     "output_type": "stream",
     "text": [
      "150396\n"
     ]
    }
   ],
   "source": [
    "#jet_recopt = quantvals[0]\n",
    "#jet_recomass = quantvals[1]\n",
    "#jet_genpt = quantvals[]\n",
    "#jet_genmass = quantvals[3]\n",
    "\n",
    "amt = len(jet_genmass)//2\n",
    "print(amt)"
   ]
  },
  {
   "cell_type": "code",
   "execution_count": 12,
   "metadata": {},
   "outputs": [
    {
     "name": "stdout",
     "output_type": "stream",
     "text": [
      "150396\n",
      "[[61.2, 379], [36.6, 187], [46.5, ... 1.48e+03], [76.8, 843], [276, 2.56e+03]]\n",
      "[[258, 2.08e+03], [138, 702], [53.7, ... 2.3e+03], [398, 5.96e+03], [148, 2.91e+03]]\n",
      "[[[61.2, 379], [59.6, 392]], [[36.6, ... 921]], [[276, 2.56e+03], [271, 2.63e+03]]]\n"
     ]
    }
   ],
   "source": [
    "# Pretend MC Fat\n",
    "# Pretend Data Gen\n",
    "# Pt, Mass are 2D\n",
    "# Stack both\n",
    "\n",
    "# Split in half to have testing\n",
    "#genjet are MC, True, FatJet be reco\n",
    "#genjet theta G, fatjet, theta S\n",
    "print(amt)\n",
    "theta0_G = np.column_stack((\n",
    "    jet_genmass[:amt],   # 1 dee\n",
    "    jet_genpt[:amt]    # 2 dee\n",
    "))\n",
    "\n",
    "theta0_S = np.column_stack((\n",
    "    jet_recomass[:amt],   # 1 dee\n",
    "    jet_recopt[:amt]    # 2 dee\n",
    "))\n",
    "\n",
    "\n",
    "# Natural\n",
    "theta_unknown_G = np.column_stack([\n",
    "    jet_genmass[amt:],   # 1 dee\n",
    "    jet_genpt[amt:]    # 2 dee\n",
    "])\n",
    "\n",
    "theta_unknown_S = np.column_stack([\n",
    "    jet_recomass[amt:],   # 1 dee\n",
    "    jet_recopt[amt:]    # 2 dee\n",
    "])\n",
    "\n",
    "theta0 = np.stack((theta0_G, theta0_S), axis=1)\n",
    "\n",
    "print(theta0_G)\n",
    "print(theta_unknown_G)\n",
    "print(theta0)"
   ]
  },
  {
   "cell_type": "code",
   "execution_count": 9,
   "metadata": {},
   "outputs": [
    {
     "name": "stdout",
     "output_type": "stream",
     "text": [
      "[[  61.21875  378.66748]\n",
      " [  61.625    174.81387]\n",
      " [  46.5     1373.5568 ]\n",
      " ...\n",
      " [ 229.125   1476.186  ]\n",
      " [  59.15625  816.8699 ]\n",
      " [ 273.25    2554.3953 ]]\n",
      "[[ 154.375   2080.6157 ]\n",
      " [ 138.125    702.45856]\n",
      " [  53.71875  886.5602 ]\n",
      " ...\n",
      " [ 148.625   2303.6921 ]\n",
      " [ 397.5     5961.3716 ]\n",
      " [ 148.5     2908.3003 ]]\n",
      "[[[  61.21875  378.66748]\n",
      "  [  59.59375  392.     ]]\n",
      "\n",
      " [[  61.625    174.81387]\n",
      "  [  68.6875   188.75   ]]\n",
      "\n",
      " [[  46.5     1373.5568 ]\n",
      "  [  70.75    1454.     ]]\n",
      "\n",
      " ...\n",
      "\n",
      " [[ 229.125   1476.186  ]\n",
      "  [ 227.625   1467.     ]]\n",
      "\n",
      " [[  59.15625  816.8699 ]\n",
      "  [ 103.8125   921.     ]]\n",
      "\n",
      " [[ 273.25    2554.3953 ]\n",
      "  [ 271.      2630.     ]]]\n"
     ]
    }
   ],
   "source": [
    "print(theta0_G)\n",
    "print(theta_unknown_G)\n",
    "print(theta0)"
   ]
  },
  {
   "cell_type": "code",
   "execution_count": 10,
   "metadata": {},
   "outputs": [],
   "source": [
    "#print(\"Shape theta0_G:\", theta0_G.shape)\n",
    "#print(\"Shape 0_S:\", theta0_S.shape)\n",
    "#print(\"Shape theta0:\", theta0t.shape)\n",
    "#print(\"Shape unknown s:\", theta_unknown_St.shape)\n",
    "#print(\"Shape theta0 Tree:\", events[\"theta0\"].array(library=\"np\").shape)\n",
    "#print(\"Shape unknown s Tree:\", events[\"theta_unknown_S\"].array(library=\"np\").shape)\n",
    "\n",
    "#theta0 = events[\"theta0\"].array(library=\"np\")\n",
    "#theta_unknown_S = events[\"theta_unknown_S\"].array(library=\"np\")"
   ]
  },
  {
   "cell_type": "code",
   "execution_count": 11,
   "metadata": {},
   "outputs": [
    {
     "data": {
      "text/plain": [
       "(array([6.0000e+00, 2.1000e+01, 5.8090e+03, 1.2076e+04, 9.1490e+03,\n",
       "        7.2420e+03, 6.1340e+03, 5.2070e+03, 4.7130e+03, 4.1330e+03,\n",
       "        3.8170e+03, 3.4880e+03, 3.1930e+03, 3.1350e+03, 2.8120e+03,\n",
       "        2.6230e+03, 2.4150e+03, 2.4290e+03, 2.2520e+03, 2.1460e+03,\n",
       "        2.0800e+03, 2.0170e+03, 1.9350e+03, 1.8910e+03, 1.8390e+03,\n",
       "        1.7030e+03, 1.7140e+03, 1.6060e+03, 1.5720e+03, 1.5380e+03,\n",
       "        1.4500e+03, 1.4870e+03, 1.4070e+03, 1.3870e+03, 1.3400e+03,\n",
       "        1.3320e+03, 1.2740e+03, 1.3250e+03, 1.2230e+03, 1.2090e+03,\n",
       "        1.2030e+03, 1.2110e+03, 1.1290e+03, 1.0990e+03, 1.1220e+03,\n",
       "        1.0350e+03, 9.9500e+02, 9.6500e+02, 9.2600e+02, 9.5000e+02,\n",
       "        8.6300e+02, 8.8200e+02, 8.8200e+02, 7.9500e+02, 8.2000e+02,\n",
       "        7.6700e+02, 8.0900e+02, 7.1200e+02, 6.9600e+02, 6.9200e+02,\n",
       "        6.3900e+02, 6.1700e+02, 6.3300e+02, 5.9900e+02, 6.3800e+02,\n",
       "        5.6400e+02, 5.8600e+02, 5.4600e+02, 5.4900e+02, 5.3900e+02,\n",
       "        5.2400e+02, 5.1600e+02, 4.6000e+02, 4.5400e+02, 4.2500e+02,\n",
       "        4.5600e+02, 4.3000e+02, 4.4800e+02, 3.9100e+02, 4.2400e+02,\n",
       "        3.9700e+02, 4.1000e+02, 3.9300e+02, 3.6500e+02, 3.7100e+02,\n",
       "        3.5200e+02, 3.5000e+02, 3.7200e+02, 3.2600e+02, 3.6100e+02,\n",
       "        3.4200e+02, 3.5300e+02, 3.3600e+02, 3.2100e+02, 3.2200e+02,\n",
       "        2.6500e+02, 2.5300e+02, 2.9600e+02, 2.6300e+02]),\n",
       " array([   0.        ,   60.60606061,  121.21212121,  181.81818182,\n",
       "         242.42424242,  303.03030303,  363.63636364,  424.24242424,\n",
       "         484.84848485,  545.45454545,  606.06060606,  666.66666667,\n",
       "         727.27272727,  787.87878788,  848.48484848,  909.09090909,\n",
       "         969.6969697 , 1030.3030303 , 1090.90909091, 1151.51515152,\n",
       "        1212.12121212, 1272.72727273, 1333.33333333, 1393.93939394,\n",
       "        1454.54545455, 1515.15151515, 1575.75757576, 1636.36363636,\n",
       "        1696.96969697, 1757.57575758, 1818.18181818, 1878.78787879,\n",
       "        1939.39393939, 2000.        , 2060.60606061, 2121.21212121,\n",
       "        2181.81818182, 2242.42424242, 2303.03030303, 2363.63636364,\n",
       "        2424.24242424, 2484.84848485, 2545.45454545, 2606.06060606,\n",
       "        2666.66666667, 2727.27272727, 2787.87878788, 2848.48484848,\n",
       "        2909.09090909, 2969.6969697 , 3030.3030303 , 3090.90909091,\n",
       "        3151.51515152, 3212.12121212, 3272.72727273, 3333.33333333,\n",
       "        3393.93939394, 3454.54545455, 3515.15151515, 3575.75757576,\n",
       "        3636.36363636, 3696.96969697, 3757.57575758, 3818.18181818,\n",
       "        3878.78787879, 3939.39393939, 4000.        , 4060.60606061,\n",
       "        4121.21212121, 4181.81818182, 4242.42424242, 4303.03030303,\n",
       "        4363.63636364, 4424.24242424, 4484.84848485, 4545.45454545,\n",
       "        4606.06060606, 4666.66666667, 4727.27272727, 4787.87878788,\n",
       "        4848.48484848, 4909.09090909, 4969.6969697 , 5030.3030303 ,\n",
       "        5090.90909091, 5151.51515152, 5212.12121212, 5272.72727273,\n",
       "        5333.33333333, 5393.93939394, 5454.54545455, 5515.15151515,\n",
       "        5575.75757576, 5636.36363636, 5696.96969697, 5757.57575758,\n",
       "        5818.18181818, 5878.78787879, 5939.39393939, 6000.        ]),\n",
       " <BarContainer object of 99 artists>)"
      ]
     },
     "execution_count": 11,
     "metadata": {},
     "output_type": "execute_result"
    },
    {
     "data": {
      "image/png": "[encoded data removed]",
      "text/plain": [
       "<Figure size 640x480 with 1 Axes>"
      ]
     },
     "metadata": {},
     "output_type": "display_data"
    }
   ],
   "source": [
    "plt.hist( theta0_G[:,0], bins=np.linspace(0,6000, 100) )\n",
    "plt.hist( theta0_G[:,1], bins=np.linspace(0,6000, 100) )"
   ]
  },
  {
   "cell_type": "code",
   "execution_count": 12,
   "metadata": {},
   "outputs": [
    {
     "data": {
      "text/plain": [
       "<matplotlib.legend.Legend at 0x29a384f90>"
      ]
     },
     "execution_count": 12,
     "metadata": {},
     "output_type": "execute_result"
    },
    {
     "data": {
      "image/png": "[encoded data removed]",
      "text/plain": [
       "<Figure size 640x480 with 1 Axes>"
      ]
     },
     "metadata": {},
     "output_type": "display_data"
    }
   ],
   "source": [
    "_,_,_=plt.hist(theta0_G[:,0],bins=np.linspace(-3,1000,200),color='blue',alpha=0.5,label=\"MC, gen\")\n",
    "_,_,_=plt.hist(theta0_S[:,0],bins=np.linspace(-3,1000,200),histtype=\"step\",color='black',ls=':',label=\"MC, reco\")\n",
    "_,_,_=plt.hist(theta_unknown_G[:,0],bins=np.linspace(-3,1000,200),color='orange',alpha=0.5,label=\"MCTest, gen\")\n",
    "_,_,_=plt.hist(theta_unknown_S[:,0],bins=np.linspace(-3,1000,200),histtype=\"step\",color='black',label=\"MCTest, reco\")\n",
    "plt.xlabel(\"x1\")\n",
    "plt.ylabel(\"events\")\n",
    "plt.legend(frameon=False)\n"
   ]
  },
  {
   "cell_type": "code",
   "execution_count": 13,
   "metadata": {},
   "outputs": [
    {
     "data": {
      "text/plain": [
       "<matplotlib.legend.Legend at 0x2fbe1efd0>"
      ]
     },
     "execution_count": 13,
     "metadata": {},
     "output_type": "execute_result"
    },
    {
     "data": {
      "image/png": "[encoded data removed]",
      "text/plain": [
       "<Figure size 640x480 with 1 Axes>"
      ]
     },
     "metadata": {},
     "output_type": "display_data"
    }
   ],
   "source": [
    "_,_,_=plt.hist(theta0_G[:,1],bins=np.linspace(-3,1000,200),color='blue',alpha=0.5,label=\"MC, gen\")\n",
    "_,_,_=plt.hist(theta0_S[:,1],bins=np.linspace(-3,1000,200),histtype=\"step\",color='black',ls=':',label=\"MC, reco\")\n",
    "_,_,_=plt.hist(theta_unknown_G[:, 1],bins=np.linspace(-3,1000,200),color='orange',alpha=0.5,label=\"MCTest, gen\")\n",
    "_,_,_=plt.hist(theta_unknown_S[:, 1],bins=np.linspace(-3,1000,200),histtype=\"step\",color='black',label=\"MCTest, reco\")\n",
    "plt.xlabel(\"x2\")\n",
    "plt.ylabel(\"events\")\n",
    "plt.legend(frameon=False)\n"
   ]
  },
  {
   "cell_type": "code",
   "execution_count": 18,
   "metadata": {},
   "outputs": [
    {
     "data": {
      "text/plain": [
       "<matplotlib.legend.Legend at 0x2c621efd0>"
      ]
     },
     "execution_count": 18,
     "metadata": {},
     "output_type": "execute_result"
    },
    {
     "data": {
      "image/png": "[encoded data removed]",
      "text/plain": [
       "<Figure size 640x480 with 1 Axes>"
      ]
     },
     "metadata": {},
     "output_type": "display_data"
    }
   ],
   "source": [
    "_,_,_=plt.hist(jet_geneta[:,0],bins=np.linspace(-3,3,200),color='blue',alpha=0.5,label=\"gen, eta\")\n",
    "_,_,_=plt.hist(jet_genphi[:,0],bins=np.linspace(-3,3,200),histtype=\"step\",color='black',ls=':',label=\"gen, phi\")\n",
    "_,_,_=plt.hist(jet_recoeta[:,0],bins=np.linspace(-3,3,200),color='orange',alpha=0.5,label=\"reco, eta\")\n",
    "_,_,_=plt.hist(jet_recophi[:,0],bins=np.linspace(-3,3,200),histtype=\"step\",color='green',ls=':',label=\"reco, phi\")\n",
    "#_,_,_=plt.hist(jet_genmass[:],bins=np.linspace(-3,1000,200),color='orange',alpha=0.5,label=\"Data, true\")\n",
    "#_,_,_=plt.hist(jet_genpt[:],bins=np.linspace(-3,1000,200),histtype=\"step\",color='black',label=\"Data, reco\")\n",
    "plt.xlabel(\"parts\")\n",
    "plt.ylabel(\"events\")\n",
    "plt.legend(frameon=False)"
   ]
  },
  {
   "cell_type": "code",
   "execution_count": 18,
   "metadata": {},
   "outputs": [],
   "source": []
  },
  {
   "cell_type": "code",
   "execution_count": 19,
   "metadata": {},
   "outputs": [
    {
     "data": {
      "image/png": "[encoded data removed]",
      "text/plain": [
       "<Figure size 1000x800 with 2 Axes>"
      ]
     },
     "metadata": {},
     "output_type": "display_data"
    }
   ],
   "source": [
    "#Data, true\n",
    "plt.figure(figsize=(10, 8))\n",
    "plt.hist2d(theta_unknown_S[:, 0], theta_unknown_S[:, 1], bins=(20, 20), cmap='Oranges', alpha=0.5, label=\"Data, true\")\n",
    "plt.colorbar()\n",
    "plt.xlabel(\"x1\")\n",
    "plt.ylabel(\"x2\")\n",
    "plt.title(\"Hist: Data, true\")\n",
    "plt.show()"
   ]
  },
  {
   "cell_type": "code",
   "execution_count": 20,
   "metadata": {},
   "outputs": [],
   "source": [
    "# #Data, true\n",
    "# theshape=theta_unknown_S.shape\n",
    "# print(theshape)\n",
    "# N = theshape[0] * theshape[1]\n",
    "# plt.figure(figsize=(10, 8))\n",
    "# plt.hist(theta_unknown_S.reshape(N), cmap='Oranges', alpha=0.5, label=\"Data, true\")\n",
    "# plt.show()"
   ]
  },
  {
   "cell_type": "code",
   "execution_count": 21,
   "metadata": {},
   "outputs": [],
   "source": [
    "# _, _, _ = plt.hist2d(theta0_G[:, 0], theta0_G[:, 1], bins=(20, 20), cmap='Blues', alpha=0.5, label=\"MC, true\")\n",
    "# _, _, _ = plt.hist2d(theta_unknown_G[:, 0], theta_unknown_G[:, 1], bins=(20, 20), cmap='Oranges', alpha=0.5, label=\"Data, true\")\n",
    "# _, _, _ = plt.hist2d(theta0_G[:, 0], theta0_G[:, 1], bins=(20, 20), weights=myweights[-1, 0, :], cmap='Greys', alpha=0.5, label=\"OmniFolded\")\n",
    "# plt.xlabel(\"x1\")\n",
    "# plt.ylabel(\"x2\")\n",
    "# plt.legend(frameon=False)\n",
    "# plt.show()\n"
   ]
  },
  {
   "cell_type": "code",
   "execution_count": 22,
   "metadata": {},
   "outputs": [
    {
     "name": "stderr",
     "output_type": "stream",
     "text": [
      "2024-04-25 10:47:30.376736: I tensorflow/core/common_runtime/pluggable_device/pluggable_device_factory.cc:303] Could not identify NUMA node of platform GPU ID 0, defaulting to 0. Your kernel may not have been built with NUMA support.\n",
      "2024-04-25 10:47:30.377346: I tensorflow/core/common_runtime/pluggable_device/pluggable_device_factory.cc:269] Created TensorFlow device (/job:localhost/replica:0/task:0/device:GPU:0 with 0 MB memory) -> physical PluggableDevice (device: 0, name: METAL, pci bus id: <undefined>)\n"
     ]
    }
   ],
   "source": [
    "inputs = Input((2,))  # 2D input\n",
    "hidden_layer_1 = Dense(50, activation='relu')(inputs)\n",
    "hidden_layer_2 = Dense(50, activation='relu')(hidden_layer_1)\n",
    "hidden_layer_3 = Dense(50, activation='relu')(hidden_layer_2)\n",
    "outputs = Dense(1, activation='sigmoid')(hidden_layer_3)\n",
    "model = Model(inputs=inputs, outputs=outputs)"
   ]
  },
  {
   "cell_type": "code",
   "execution_count": 23,
   "metadata": {},
   "outputs": [
    {
     "name": "stdout",
     "output_type": "stream",
     "text": [
      "theta0G (150396, 2), labels (150396,), labels unknown (150396,), theta 0(150396, 2, 2), theta unknown s(150396, 2)\n"
     ]
    },
    {
     "name": "stderr",
     "output_type": "stream",
     "text": [
      "2024-04-25 10:48:17.026438: I tensorflow/core/grappler/optimizers/custom_graph_optimizer_registry.cc:114] Plugin optimizer for device_type GPU is enabled.\n",
      "2024-04-25 10:48:17.772201: I tensorflow/core/grappler/optimizers/custom_graph_optimizer_registry.cc:114] Plugin optimizer for device_type GPU is enabled.\n"
     ]
    },
    {
     "name": "stdout",
     "output_type": "stream",
     "text": [
      "16/16 [==============================] - 0s 3ms/step\n"
     ]
    },
    {
     "name": "stderr",
     "output_type": "stream",
     "text": [
      "2024-04-25 10:48:21.436005: I tensorflow/core/grappler/optimizers/custom_graph_optimizer_registry.cc:114] Plugin optimizer for device_type GPU is enabled.\n",
      "2024-04-25 10:48:21.639040: I tensorflow/core/grappler/optimizers/custom_graph_optimizer_registry.cc:114] Plugin optimizer for device_type GPU is enabled.\n",
      "2024-04-25 10:48:22.013075: I tensorflow/core/grappler/optimizers/custom_graph_optimizer_registry.cc:114] Plugin optimizer for device_type GPU is enabled.\n"
     ]
    },
    {
     "name": "stdout",
     "output_type": "stream",
     "text": [
      "16/16 [==============================] - 0s 3ms/step\n"
     ]
    },
    {
     "name": "stderr",
     "output_type": "stream",
     "text": [
      "2024-04-25 10:48:59.292632: I tensorflow/core/grappler/optimizers/custom_graph_optimizer_registry.cc:114] Plugin optimizer for device_type GPU is enabled.\n",
      "2024-04-25 10:48:59.484547: I tensorflow/core/grappler/optimizers/custom_graph_optimizer_registry.cc:114] Plugin optimizer for device_type GPU is enabled.\n",
      "2024-04-25 10:48:59.858109: I tensorflow/core/grappler/optimizers/custom_graph_optimizer_registry.cc:114] Plugin optimizer for device_type GPU is enabled.\n"
     ]
    },
    {
     "name": "stdout",
     "output_type": "stream",
     "text": [
      "16/16 [==============================] - 0s 2ms/step\n"
     ]
    },
    {
     "name": "stderr",
     "output_type": "stream",
     "text": [
      "2024-04-25 10:49:03.648621: I tensorflow/core/grappler/optimizers/custom_graph_optimizer_registry.cc:114] Plugin optimizer for device_type GPU is enabled.\n",
      "2024-04-25 10:49:03.843834: I tensorflow/core/grappler/optimizers/custom_graph_optimizer_registry.cc:114] Plugin optimizer for device_type GPU is enabled.\n",
      "2024-04-25 10:49:04.227398: I tensorflow/core/grappler/optimizers/custom_graph_optimizer_registry.cc:114] Plugin optimizer for device_type GPU is enabled.\n"
     ]
    },
    {
     "name": "stdout",
     "output_type": "stream",
     "text": [
      "16/16 [==============================] - 0s 3ms/step\n"
     ]
    },
    {
     "name": "stderr",
     "output_type": "stream",
     "text": [
      "2024-04-25 10:49:41.609538: I tensorflow/core/grappler/optimizers/custom_graph_optimizer_registry.cc:114] Plugin optimizer for device_type GPU is enabled.\n",
      "2024-04-25 10:49:41.813383: I tensorflow/core/grappler/optimizers/custom_graph_optimizer_registry.cc:114] Plugin optimizer for device_type GPU is enabled.\n",
      "2024-04-25 10:49:42.243591: I tensorflow/core/grappler/optimizers/custom_graph_optimizer_registry.cc:114] Plugin optimizer for device_type GPU is enabled.\n"
     ]
    },
    {
     "name": "stdout",
     "output_type": "stream",
     "text": [
      "16/16 [==============================] - 0s 2ms/step\n"
     ]
    },
    {
     "name": "stderr",
     "output_type": "stream",
     "text": [
      "2024-04-25 10:49:46.008948: I tensorflow/core/grappler/optimizers/custom_graph_optimizer_registry.cc:114] Plugin optimizer for device_type GPU is enabled.\n",
      "2024-04-25 10:49:46.189057: I tensorflow/core/grappler/optimizers/custom_graph_optimizer_registry.cc:114] Plugin optimizer for device_type GPU is enabled.\n",
      "2024-04-25 10:49:46.625669: I tensorflow/core/grappler/optimizers/custom_graph_optimizer_registry.cc:114] Plugin optimizer for device_type GPU is enabled.\n"
     ]
    },
    {
     "name": "stdout",
     "output_type": "stream",
     "text": [
      "16/16 [==============================] - 0s 2ms/step\n"
     ]
    },
    {
     "name": "stderr",
     "output_type": "stream",
     "text": [
      "2024-04-25 10:50:24.194455: I tensorflow/core/grappler/optimizers/custom_graph_optimizer_registry.cc:114] Plugin optimizer for device_type GPU is enabled.\n",
      "2024-04-25 10:50:24.402221: I tensorflow/core/grappler/optimizers/custom_graph_optimizer_registry.cc:114] Plugin optimizer for device_type GPU is enabled.\n",
      "2024-04-25 10:50:24.920497: I tensorflow/core/grappler/optimizers/custom_graph_optimizer_registry.cc:114] Plugin optimizer for device_type GPU is enabled.\n"
     ]
    },
    {
     "name": "stdout",
     "output_type": "stream",
     "text": [
      "16/16 [==============================] - 0s 2ms/step\n"
     ]
    },
    {
     "name": "stderr",
     "output_type": "stream",
     "text": [
      "2024-04-25 10:50:28.773823: I tensorflow/core/grappler/optimizers/custom_graph_optimizer_registry.cc:114] Plugin optimizer for device_type GPU is enabled.\n",
      "2024-04-25 10:50:28.955648: I tensorflow/core/grappler/optimizers/custom_graph_optimizer_registry.cc:114] Plugin optimizer for device_type GPU is enabled.\n",
      "2024-04-25 10:50:29.409552: I tensorflow/core/grappler/optimizers/custom_graph_optimizer_registry.cc:114] Plugin optimizer for device_type GPU is enabled.\n"
     ]
    },
    {
     "name": "stdout",
     "output_type": "stream",
     "text": [
      "16/16 [==============================] - 0s 3ms/step\n"
     ]
    },
    {
     "name": "stderr",
     "output_type": "stream",
     "text": [
      "2024-04-25 10:51:06.901872: I tensorflow/core/grappler/optimizers/custom_graph_optimizer_registry.cc:114] Plugin optimizer for device_type GPU is enabled.\n",
      "2024-04-25 10:51:07.111288: I tensorflow/core/grappler/optimizers/custom_graph_optimizer_registry.cc:114] Plugin optimizer for device_type GPU is enabled.\n",
      "2024-04-25 10:51:07.611287: I tensorflow/core/grappler/optimizers/custom_graph_optimizer_registry.cc:114] Plugin optimizer for device_type GPU is enabled.\n"
     ]
    },
    {
     "name": "stdout",
     "output_type": "stream",
     "text": [
      "16/16 [==============================] - 0s 2ms/step\n"
     ]
    },
    {
     "name": "stderr",
     "output_type": "stream",
     "text": [
      "2024-04-25 10:51:11.442855: I tensorflow/core/grappler/optimizers/custom_graph_optimizer_registry.cc:114] Plugin optimizer for device_type GPU is enabled.\n",
      "2024-04-25 10:51:11.636808: I tensorflow/core/grappler/optimizers/custom_graph_optimizer_registry.cc:114] Plugin optimizer for device_type GPU is enabled.\n",
      "2024-04-25 10:51:12.154520: I tensorflow/core/grappler/optimizers/custom_graph_optimizer_registry.cc:114] Plugin optimizer for device_type GPU is enabled.\n"
     ]
    },
    {
     "name": "stdout",
     "output_type": "stream",
     "text": [
      "16/16 [==============================] - 0s 2ms/step\n"
     ]
    },
    {
     "name": "stderr",
     "output_type": "stream",
     "text": [
      "2024-04-25 10:51:49.462424: I tensorflow/core/grappler/optimizers/custom_graph_optimizer_registry.cc:114] Plugin optimizer for device_type GPU is enabled.\n",
      "2024-04-25 10:51:49.658459: I tensorflow/core/grappler/optimizers/custom_graph_optimizer_registry.cc:114] Plugin optimizer for device_type GPU is enabled.\n",
      "2024-04-25 10:51:50.175667: I tensorflow/core/grappler/optimizers/custom_graph_optimizer_registry.cc:114] Plugin optimizer for device_type GPU is enabled.\n"
     ]
    },
    {
     "name": "stdout",
     "output_type": "stream",
     "text": [
      "16/16 [==============================] - 0s 2ms/step\n"
     ]
    },
    {
     "name": "stderr",
     "output_type": "stream",
     "text": [
      "2024-04-25 10:51:54.051355: I tensorflow/core/grappler/optimizers/custom_graph_optimizer_registry.cc:114] Plugin optimizer for device_type GPU is enabled.\n",
      "2024-04-25 10:51:54.232578: I tensorflow/core/grappler/optimizers/custom_graph_optimizer_registry.cc:114] Plugin optimizer for device_type GPU is enabled.\n",
      "2024-04-25 10:51:54.809134: I tensorflow/core/grappler/optimizers/custom_graph_optimizer_registry.cc:114] Plugin optimizer for device_type GPU is enabled.\n"
     ]
    },
    {
     "name": "stdout",
     "output_type": "stream",
     "text": [
      "16/16 [==============================] - 0s 3ms/step\n"
     ]
    },
    {
     "name": "stderr",
     "output_type": "stream",
     "text": [
      "2024-04-25 10:52:32.393346: I tensorflow/core/grappler/optimizers/custom_graph_optimizer_registry.cc:114] Plugin optimizer for device_type GPU is enabled.\n",
      "2024-04-25 10:52:32.602221: I tensorflow/core/grappler/optimizers/custom_graph_optimizer_registry.cc:114] Plugin optimizer for device_type GPU is enabled.\n",
      "2024-04-25 10:52:33.196352: I tensorflow/core/grappler/optimizers/custom_graph_optimizer_registry.cc:114] Plugin optimizer for device_type GPU is enabled.\n"
     ]
    },
    {
     "name": "stdout",
     "output_type": "stream",
     "text": [
      "16/16 [==============================] - 0s 2ms/step\n"
     ]
    },
    {
     "name": "stderr",
     "output_type": "stream",
     "text": [
      "2024-04-25 10:52:37.074897: I tensorflow/core/grappler/optimizers/custom_graph_optimizer_registry.cc:114] Plugin optimizer for device_type GPU is enabled.\n",
      "2024-04-25 10:52:37.269342: I tensorflow/core/grappler/optimizers/custom_graph_optimizer_registry.cc:114] Plugin optimizer for device_type GPU is enabled.\n",
      "2024-04-25 10:52:37.888564: I tensorflow/core/grappler/optimizers/custom_graph_optimizer_registry.cc:114] Plugin optimizer for device_type GPU is enabled.\n"
     ]
    },
    {
     "name": "stdout",
     "output_type": "stream",
     "text": [
      "16/16 [==============================] - 0s 3ms/step\n"
     ]
    },
    {
     "name": "stderr",
     "output_type": "stream",
     "text": [
      "2024-04-25 10:53:15.259604: I tensorflow/core/grappler/optimizers/custom_graph_optimizer_registry.cc:114] Plugin optimizer for device_type GPU is enabled.\n",
      "2024-04-25 10:53:15.475883: I tensorflow/core/grappler/optimizers/custom_graph_optimizer_registry.cc:114] Plugin optimizer for device_type GPU is enabled.\n",
      "2024-04-25 10:53:16.139059: I tensorflow/core/grappler/optimizers/custom_graph_optimizer_registry.cc:114] Plugin optimizer for device_type GPU is enabled.\n"
     ]
    },
    {
     "name": "stdout",
     "output_type": "stream",
     "text": [
      "16/16 [==============================] - 0s 3ms/step\n"
     ]
    },
    {
     "name": "stderr",
     "output_type": "stream",
     "text": [
      "2024-04-25 10:53:20.192548: I tensorflow/core/grappler/optimizers/custom_graph_optimizer_registry.cc:114] Plugin optimizer for device_type GPU is enabled.\n",
      "2024-04-25 10:53:20.416032: I tensorflow/core/grappler/optimizers/custom_graph_optimizer_registry.cc:114] Plugin optimizer for device_type GPU is enabled.\n",
      "2024-04-25 10:53:21.082608: I tensorflow/core/grappler/optimizers/custom_graph_optimizer_registry.cc:114] Plugin optimizer for device_type GPU is enabled.\n"
     ]
    },
    {
     "name": "stdout",
     "output_type": "stream",
     "text": [
      "16/16 [==============================] - 0s 3ms/step\n"
     ]
    },
    {
     "name": "stderr",
     "output_type": "stream",
     "text": [
      "2024-04-25 10:53:58.957055: I tensorflow/core/grappler/optimizers/custom_graph_optimizer_registry.cc:114] Plugin optimizer for device_type GPU is enabled.\n",
      "2024-04-25 10:53:59.163483: I tensorflow/core/grappler/optimizers/custom_graph_optimizer_registry.cc:114] Plugin optimizer for device_type GPU is enabled.\n",
      "2024-04-25 10:53:59.849522: I tensorflow/core/grappler/optimizers/custom_graph_optimizer_registry.cc:114] Plugin optimizer for device_type GPU is enabled.\n"
     ]
    },
    {
     "name": "stdout",
     "output_type": "stream",
     "text": [
      "16/16 [==============================] - 0s 2ms/step\n"
     ]
    },
    {
     "name": "stderr",
     "output_type": "stream",
     "text": [
      "2024-04-25 10:54:03.788715: I tensorflow/core/grappler/optimizers/custom_graph_optimizer_registry.cc:114] Plugin optimizer for device_type GPU is enabled.\n",
      "2024-04-25 10:54:03.970876: I tensorflow/core/grappler/optimizers/custom_graph_optimizer_registry.cc:114] Plugin optimizer for device_type GPU is enabled.\n",
      "2024-04-25 10:54:04.630199: I tensorflow/core/grappler/optimizers/custom_graph_optimizer_registry.cc:114] Plugin optimizer for device_type GPU is enabled.\n"
     ]
    },
    {
     "name": "stdout",
     "output_type": "stream",
     "text": [
      "16/16 [==============================] - 0s 2ms/step\n"
     ]
    },
    {
     "name": "stderr",
     "output_type": "stream",
     "text": [
      "2024-04-25 10:54:42.262246: I tensorflow/core/grappler/optimizers/custom_graph_optimizer_registry.cc:114] Plugin optimizer for device_type GPU is enabled.\n",
      "2024-04-25 10:54:42.443278: I tensorflow/core/grappler/optimizers/custom_graph_optimizer_registry.cc:114] Plugin optimizer for device_type GPU is enabled.\n",
      "2024-04-25 10:54:43.063980: I tensorflow/core/grappler/optimizers/custom_graph_optimizer_registry.cc:114] Plugin optimizer for device_type GPU is enabled.\n"
     ]
    },
    {
     "name": "stdout",
     "output_type": "stream",
     "text": [
      "16/16 [==============================] - 0s 2ms/step\n"
     ]
    },
    {
     "name": "stderr",
     "output_type": "stream",
     "text": [
      "2024-04-25 10:54:47.044940: I tensorflow/core/grappler/optimizers/custom_graph_optimizer_registry.cc:114] Plugin optimizer for device_type GPU is enabled.\n",
      "2024-04-25 10:54:47.227367: I tensorflow/core/grappler/optimizers/custom_graph_optimizer_registry.cc:114] Plugin optimizer for device_type GPU is enabled.\n",
      "2024-04-25 10:54:47.852541: I tensorflow/core/grappler/optimizers/custom_graph_optimizer_registry.cc:114] Plugin optimizer for device_type GPU is enabled.\n"
     ]
    },
    {
     "name": "stdout",
     "output_type": "stream",
     "text": [
      "16/16 [==============================] - 0s 2ms/step\n"
     ]
    },
    {
     "name": "stderr",
     "output_type": "stream",
     "text": [
      "2024-04-25 10:55:25.231443: I tensorflow/core/grappler/optimizers/custom_graph_optimizer_registry.cc:114] Plugin optimizer for device_type GPU is enabled.\n",
      "2024-04-25 10:55:25.424066: I tensorflow/core/grappler/optimizers/custom_graph_optimizer_registry.cc:114] Plugin optimizer for device_type GPU is enabled.\n",
      "2024-04-25 10:55:26.047172: I tensorflow/core/grappler/optimizers/custom_graph_optimizer_registry.cc:114] Plugin optimizer for device_type GPU is enabled.\n"
     ]
    },
    {
     "name": "stdout",
     "output_type": "stream",
     "text": [
      "16/16 [==============================] - 0s 2ms/step\n"
     ]
    },
    {
     "name": "stderr",
     "output_type": "stream",
     "text": [
      "2024-04-25 10:55:30.010619: I tensorflow/core/grappler/optimizers/custom_graph_optimizer_registry.cc:114] Plugin optimizer for device_type GPU is enabled.\n",
      "2024-04-25 10:55:30.197803: I tensorflow/core/grappler/optimizers/custom_graph_optimizer_registry.cc:114] Plugin optimizer for device_type GPU is enabled.\n",
      "2024-04-25 10:55:30.818276: I tensorflow/core/grappler/optimizers/custom_graph_optimizer_registry.cc:114] Plugin optimizer for device_type GPU is enabled.\n"
     ]
    },
    {
     "name": "stdout",
     "output_type": "stream",
     "text": [
      "16/16 [==============================] - 0s 2ms/step\n"
     ]
    },
    {
     "name": "stderr",
     "output_type": "stream",
     "text": [
      "2024-04-25 10:56:08.466638: I tensorflow/core/grappler/optimizers/custom_graph_optimizer_registry.cc:114] Plugin optimizer for device_type GPU is enabled.\n",
      "2024-04-25 10:56:08.656659: I tensorflow/core/grappler/optimizers/custom_graph_optimizer_registry.cc:114] Plugin optimizer for device_type GPU is enabled.\n",
      "2024-04-25 10:56:09.329534: I tensorflow/core/grappler/optimizers/custom_graph_optimizer_registry.cc:114] Plugin optimizer for device_type GPU is enabled.\n"
     ]
    },
    {
     "name": "stdout",
     "output_type": "stream",
     "text": [
      "16/16 [==============================] - 0s 2ms/step\n"
     ]
    },
    {
     "name": "stderr",
     "output_type": "stream",
     "text": [
      "2024-04-25 10:56:13.399982: I tensorflow/core/grappler/optimizers/custom_graph_optimizer_registry.cc:114] Plugin optimizer for device_type GPU is enabled.\n",
      "2024-04-25 10:56:13.588723: I tensorflow/core/grappler/optimizers/custom_graph_optimizer_registry.cc:114] Plugin optimizer for device_type GPU is enabled.\n",
      "2024-04-25 10:56:14.337147: I tensorflow/core/grappler/optimizers/custom_graph_optimizer_registry.cc:114] Plugin optimizer for device_type GPU is enabled.\n"
     ]
    },
    {
     "name": "stdout",
     "output_type": "stream",
     "text": [
      "16/16 [==============================] - 0s 3ms/step\n"
     ]
    },
    {
     "name": "stderr",
     "output_type": "stream",
     "text": [
      "2024-04-25 10:56:51.961397: I tensorflow/core/grappler/optimizers/custom_graph_optimizer_registry.cc:114] Plugin optimizer for device_type GPU is enabled.\n",
      "2024-04-25 10:56:52.177241: I tensorflow/core/grappler/optimizers/custom_graph_optimizer_registry.cc:114] Plugin optimizer for device_type GPU is enabled.\n",
      "2024-04-25 10:56:52.868848: I tensorflow/core/grappler/optimizers/custom_graph_optimizer_registry.cc:114] Plugin optimizer for device_type GPU is enabled.\n"
     ]
    },
    {
     "name": "stdout",
     "output_type": "stream",
     "text": [
      "16/16 [==============================] - 0s 2ms/step\n"
     ]
    },
    {
     "name": "stderr",
     "output_type": "stream",
     "text": [
      "2024-04-25 10:56:56.961357: I tensorflow/core/grappler/optimizers/custom_graph_optimizer_registry.cc:114] Plugin optimizer for device_type GPU is enabled.\n",
      "2024-04-25 10:56:57.151538: I tensorflow/core/grappler/optimizers/custom_graph_optimizer_registry.cc:114] Plugin optimizer for device_type GPU is enabled.\n",
      "2024-04-25 10:56:57.985265: I tensorflow/core/grappler/optimizers/custom_graph_optimizer_registry.cc:114] Plugin optimizer for device_type GPU is enabled.\n"
     ]
    },
    {
     "name": "stdout",
     "output_type": "stream",
     "text": [
      "16/16 [==============================] - 0s 3ms/step\n"
     ]
    },
    {
     "name": "stderr",
     "output_type": "stream",
     "text": [
      "2024-04-25 10:57:35.557343: I tensorflow/core/grappler/optimizers/custom_graph_optimizer_registry.cc:114] Plugin optimizer for device_type GPU is enabled.\n",
      "2024-04-25 10:57:35.770303: I tensorflow/core/grappler/optimizers/custom_graph_optimizer_registry.cc:114] Plugin optimizer for device_type GPU is enabled.\n",
      "2024-04-25 10:57:36.670786: I tensorflow/core/grappler/optimizers/custom_graph_optimizer_registry.cc:114] Plugin optimizer for device_type GPU is enabled.\n"
     ]
    },
    {
     "name": "stdout",
     "output_type": "stream",
     "text": [
      "16/16 [==============================] - 0s 2ms/step\n"
     ]
    },
    {
     "name": "stderr",
     "output_type": "stream",
     "text": [
      "2024-04-25 10:57:40.964910: I tensorflow/core/grappler/optimizers/custom_graph_optimizer_registry.cc:114] Plugin optimizer for device_type GPU is enabled.\n",
      "2024-04-25 10:57:41.151795: I tensorflow/core/grappler/optimizers/custom_graph_optimizer_registry.cc:114] Plugin optimizer for device_type GPU is enabled.\n",
      "2024-04-25 10:57:42.066419: I tensorflow/core/grappler/optimizers/custom_graph_optimizer_registry.cc:114] Plugin optimizer for device_type GPU is enabled.\n"
     ]
    },
    {
     "name": "stdout",
     "output_type": "stream",
     "text": [
      "16/16 [==============================] - 0s 3ms/step\n"
     ]
    },
    {
     "name": "stderr",
     "output_type": "stream",
     "text": [
      "2024-04-25 10:58:20.451072: I tensorflow/core/grappler/optimizers/custom_graph_optimizer_registry.cc:114] Plugin optimizer for device_type GPU is enabled.\n",
      "2024-04-25 10:58:20.658966: I tensorflow/core/grappler/optimizers/custom_graph_optimizer_registry.cc:114] Plugin optimizer for device_type GPU is enabled.\n",
      "2024-04-25 10:58:21.640913: I tensorflow/core/grappler/optimizers/custom_graph_optimizer_registry.cc:114] Plugin optimizer for device_type GPU is enabled.\n"
     ]
    },
    {
     "name": "stdout",
     "output_type": "stream",
     "text": [
      "16/16 [==============================] - 0s 2ms/step\n"
     ]
    },
    {
     "name": "stderr",
     "output_type": "stream",
     "text": [
      "2024-04-25 10:58:25.913198: I tensorflow/core/grappler/optimizers/custom_graph_optimizer_registry.cc:114] Plugin optimizer for device_type GPU is enabled.\n",
      "2024-04-25 10:58:26.108830: I tensorflow/core/grappler/optimizers/custom_graph_optimizer_registry.cc:114] Plugin optimizer for device_type GPU is enabled.\n",
      "2024-04-25 10:58:27.075050: I tensorflow/core/grappler/optimizers/custom_graph_optimizer_registry.cc:114] Plugin optimizer for device_type GPU is enabled.\n"
     ]
    },
    {
     "name": "stdout",
     "output_type": "stream",
     "text": [
      "16/16 [==============================] - 0s 3ms/step\n"
     ]
    },
    {
     "name": "stderr",
     "output_type": "stream",
     "text": [
      "2024-04-25 10:59:04.691904: I tensorflow/core/grappler/optimizers/custom_graph_optimizer_registry.cc:114] Plugin optimizer for device_type GPU is enabled.\n",
      "2024-04-25 10:59:04.886785: I tensorflow/core/grappler/optimizers/custom_graph_optimizer_registry.cc:114] Plugin optimizer for device_type GPU is enabled.\n",
      "2024-04-25 10:59:05.822962: I tensorflow/core/grappler/optimizers/custom_graph_optimizer_registry.cc:114] Plugin optimizer for device_type GPU is enabled.\n"
     ]
    },
    {
     "name": "stdout",
     "output_type": "stream",
     "text": [
      "16/16 [==============================] - 0s 2ms/step\n"
     ]
    },
    {
     "name": "stderr",
     "output_type": "stream",
     "text": [
      "2024-04-25 10:59:10.108089: I tensorflow/core/grappler/optimizers/custom_graph_optimizer_registry.cc:114] Plugin optimizer for device_type GPU is enabled.\n",
      "2024-04-25 10:59:10.293774: I tensorflow/core/grappler/optimizers/custom_graph_optimizer_registry.cc:114] Plugin optimizer for device_type GPU is enabled.\n",
      "2024-04-25 10:59:11.229543: I tensorflow/core/grappler/optimizers/custom_graph_optimizer_registry.cc:114] Plugin optimizer for device_type GPU is enabled.\n"
     ]
    },
    {
     "name": "stdout",
     "output_type": "stream",
     "text": [
      "16/16 [==============================] - 0s 3ms/step\n"
     ]
    },
    {
     "name": "stderr",
     "output_type": "stream",
     "text": [
      "2024-04-25 10:59:49.116860: I tensorflow/core/grappler/optimizers/custom_graph_optimizer_registry.cc:114] Plugin optimizer for device_type GPU is enabled.\n",
      "2024-04-25 10:59:49.328718: I tensorflow/core/grappler/optimizers/custom_graph_optimizer_registry.cc:114] Plugin optimizer for device_type GPU is enabled.\n",
      "2024-04-25 10:59:50.299749: I tensorflow/core/grappler/optimizers/custom_graph_optimizer_registry.cc:114] Plugin optimizer for device_type GPU is enabled.\n"
     ]
    },
    {
     "name": "stdout",
     "output_type": "stream",
     "text": [
      "16/16 [==============================] - 0s 2ms/step\n"
     ]
    },
    {
     "name": "stderr",
     "output_type": "stream",
     "text": [
      "2024-04-25 10:59:54.621386: I tensorflow/core/grappler/optimizers/custom_graph_optimizer_registry.cc:114] Plugin optimizer for device_type GPU is enabled.\n",
      "2024-04-25 10:59:54.810094: I tensorflow/core/grappler/optimizers/custom_graph_optimizer_registry.cc:114] Plugin optimizer for device_type GPU is enabled.\n",
      "2024-04-25 10:59:55.761547: I tensorflow/core/grappler/optimizers/custom_graph_optimizer_registry.cc:114] Plugin optimizer for device_type GPU is enabled.\n"
     ]
    },
    {
     "name": "stdout",
     "output_type": "stream",
     "text": [
      "16/16 [==============================] - 0s 2ms/step\n"
     ]
    },
    {
     "name": "stderr",
     "output_type": "stream",
     "text": [
      "2024-04-25 11:00:33.547848: I tensorflow/core/grappler/optimizers/custom_graph_optimizer_registry.cc:114] Plugin optimizer for device_type GPU is enabled.\n",
      "2024-04-25 11:00:33.745960: I tensorflow/core/grappler/optimizers/custom_graph_optimizer_registry.cc:114] Plugin optimizer for device_type GPU is enabled.\n",
      "2024-04-25 11:00:34.733897: I tensorflow/core/grappler/optimizers/custom_graph_optimizer_registry.cc:114] Plugin optimizer for device_type GPU is enabled.\n"
     ]
    },
    {
     "name": "stdout",
     "output_type": "stream",
     "text": [
      "16/16 [==============================] - 0s 3ms/step\n"
     ]
    },
    {
     "name": "stderr",
     "output_type": "stream",
     "text": [
      "2024-04-25 11:00:39.062221: I tensorflow/core/grappler/optimizers/custom_graph_optimizer_registry.cc:114] Plugin optimizer for device_type GPU is enabled.\n",
      "2024-04-25 11:00:39.250989: I tensorflow/core/grappler/optimizers/custom_graph_optimizer_registry.cc:114] Plugin optimizer for device_type GPU is enabled.\n",
      "2024-04-25 11:00:40.195689: I tensorflow/core/grappler/optimizers/custom_graph_optimizer_registry.cc:114] Plugin optimizer for device_type GPU is enabled.\n"
     ]
    },
    {
     "name": "stdout",
     "output_type": "stream",
     "text": [
      "16/16 [==============================] - 0s 3ms/step\n"
     ]
    },
    {
     "name": "stderr",
     "output_type": "stream",
     "text": [
      "2024-04-25 11:01:17.979387: I tensorflow/core/grappler/optimizers/custom_graph_optimizer_registry.cc:114] Plugin optimizer for device_type GPU is enabled.\n",
      "2024-04-25 11:01:18.191266: I tensorflow/core/grappler/optimizers/custom_graph_optimizer_registry.cc:114] Plugin optimizer for device_type GPU is enabled.\n",
      "2024-04-25 11:01:19.175836: I tensorflow/core/grappler/optimizers/custom_graph_optimizer_registry.cc:114] Plugin optimizer for device_type GPU is enabled.\n"
     ]
    },
    {
     "name": "stdout",
     "output_type": "stream",
     "text": [
      "16/16 [==============================] - 0s 2ms/step\n"
     ]
    },
    {
     "name": "stderr",
     "output_type": "stream",
     "text": [
      "2024-04-25 11:01:23.517923: I tensorflow/core/grappler/optimizers/custom_graph_optimizer_registry.cc:114] Plugin optimizer for device_type GPU is enabled.\n",
      "2024-04-25 11:01:23.707574: I tensorflow/core/grappler/optimizers/custom_graph_optimizer_registry.cc:114] Plugin optimizer for device_type GPU is enabled.\n",
      "2024-04-25 11:01:24.645722: I tensorflow/core/grappler/optimizers/custom_graph_optimizer_registry.cc:114] Plugin optimizer for device_type GPU is enabled.\n"
     ]
    },
    {
     "name": "stdout",
     "output_type": "stream",
     "text": [
      "16/16 [==============================] - 0s 3ms/step\n"
     ]
    },
    {
     "name": "stderr",
     "output_type": "stream",
     "text": [
      "2024-04-25 11:02:02.661843: I tensorflow/core/grappler/optimizers/custom_graph_optimizer_registry.cc:114] Plugin optimizer for device_type GPU is enabled.\n",
      "2024-04-25 11:02:02.860744: I tensorflow/core/grappler/optimizers/custom_graph_optimizer_registry.cc:114] Plugin optimizer for device_type GPU is enabled.\n",
      "2024-04-25 11:02:03.814066: I tensorflow/core/grappler/optimizers/custom_graph_optimizer_registry.cc:114] Plugin optimizer for device_type GPU is enabled.\n"
     ]
    },
    {
     "name": "stdout",
     "output_type": "stream",
     "text": [
      "16/16 [==============================] - 0s 2ms/step\n"
     ]
    },
    {
     "name": "stderr",
     "output_type": "stream",
     "text": [
      "2024-04-25 11:02:08.218094: I tensorflow/core/grappler/optimizers/custom_graph_optimizer_registry.cc:114] Plugin optimizer for device_type GPU is enabled.\n",
      "2024-04-25 11:02:08.406761: I tensorflow/core/grappler/optimizers/custom_graph_optimizer_registry.cc:114] Plugin optimizer for device_type GPU is enabled.\n",
      "2024-04-25 11:02:09.287309: I tensorflow/core/grappler/optimizers/custom_graph_optimizer_registry.cc:114] Plugin optimizer for device_type GPU is enabled.\n"
     ]
    },
    {
     "name": "stdout",
     "output_type": "stream",
     "text": [
      "16/16 [==============================] - 0s 3ms/step\n"
     ]
    },
    {
     "name": "stderr",
     "output_type": "stream",
     "text": [
      "2024-04-25 11:02:47.222811: I tensorflow/core/grappler/optimizers/custom_graph_optimizer_registry.cc:114] Plugin optimizer for device_type GPU is enabled.\n"
     ]
    }
   ],
   "source": [
    "myweights = of.omnifold(theta0,theta_unknown_S,20,model)"
   ]
  },
  {
   "cell_type": "code",
   "execution_count": 24,
   "metadata": {},
   "outputs": [],
   "source": [
    "# #needless\n",
    "# plt.hist2d(theta0_G[:, 0], theta0_G[:, 1], bins=(20, 20), cmap='Blues', alpha=0.5, label=\"MC, true\")\n",
    "# plt.hist2d(theta_unknown_G[:, 0], theta_unknown_G[:, 1], bins=(20, 20), cmap='Oranges', alpha=0.5, label=\"Data, true\")\n",
    "# plt.hist2d(theta0_G[:, 0], theta0_G[:, 1], bins=(20, 20), weights=myweights[-1, 0, :], cmap='Greys', alpha=0.5, label=\"OmniFolded\")\n",
    "# plt.xlabel(\"x1\")\n",
    "# plt.ylabel(\"x2\")\n",
    "# plt.legend(frameon=False)\n",
    "# plt.show()"
   ]
  },
  {
   "cell_type": "code",
   "execution_count": 31,
   "metadata": {},
   "outputs": [
    {
     "ename": "AttributeError",
     "evalue": "no field named 'shape'\n\n(https://github.com/scikit-hep/awkward-1.0/blob/1.10.5/src/awkward/highlevel.py#L1124)",
     "output_type": "error",
     "traceback": [
      "\u001b[1;31m---------------------------------------------------------------------------\u001b[0m",
      "\u001b[1;31mAttributeError\u001b[0m                            Traceback (most recent call last)",
      "Cell \u001b[1;32mIn[31], line 1\u001b[0m\n\u001b[1;32m----> 1\u001b[0m \u001b[38;5;28mprint\u001b[39m(\u001b[38;5;124m\"\u001b[39m\u001b[38;5;124mShape theta0_G:\u001b[39m\u001b[38;5;124m\"\u001b[39m, \u001b[43mtheta0_G\u001b[49m\u001b[38;5;241;43m.\u001b[39;49m\u001b[43mshape\u001b[49m)\n\u001b[0;32m      2\u001b[0m \u001b[38;5;28mprint\u001b[39m(\u001b[38;5;124m\"\u001b[39m\u001b[38;5;124mShape weights:\u001b[39m\u001b[38;5;124m\"\u001b[39m, myweights\u001b[38;5;241m.\u001b[39mshape)\n",
      "File \u001b[1;32m~\\LHC_env\\lhc\\Lib\\site-packages\\awkward\\highlevel.py:1123\u001b[0m, in \u001b[0;36mArray.__getattr__\u001b[1;34m(self, where)\u001b[0m\n\u001b[0;32m   1117\u001b[0m         \u001b[38;5;28;01mraise\u001b[39;00m \u001b[38;5;167;01mAttributeError\u001b[39;00m(\n\u001b[0;32m   1118\u001b[0m             \u001b[38;5;124m\"\u001b[39m\u001b[38;5;124mwhile trying to get field \u001b[39m\u001b[38;5;132;01m{}\u001b[39;00m\u001b[38;5;124m, an exception \u001b[39m\u001b[38;5;124m\"\u001b[39m\n\u001b[0;32m   1119\u001b[0m             \u001b[38;5;124m\"\u001b[39m\u001b[38;5;124moccurred:\u001b[39m\u001b[38;5;130;01m\\n\u001b[39;00m\u001b[38;5;132;01m{}\u001b[39;00m\u001b[38;5;124m: \u001b[39m\u001b[38;5;132;01m{}\u001b[39;00m\u001b[38;5;124m\"\u001b[39m\u001b[38;5;241m.\u001b[39mformat(\u001b[38;5;28mrepr\u001b[39m(where), \u001b[38;5;28mtype\u001b[39m(err), \u001b[38;5;28mstr\u001b[39m(err))\n\u001b[0;32m   1120\u001b[0m             \u001b[38;5;241m+\u001b[39m ak\u001b[38;5;241m.\u001b[39m_util\u001b[38;5;241m.\u001b[39mexception_suffix(\u001b[38;5;18m__file__\u001b[39m)\n\u001b[0;32m   1121\u001b[0m         ) \u001b[38;5;28;01mfrom\u001b[39;00m \u001b[38;5;21;01merr\u001b[39;00m\n\u001b[0;32m   1122\u001b[0m \u001b[38;5;28;01melse\u001b[39;00m:\n\u001b[1;32m-> 1123\u001b[0m     \u001b[38;5;28;01mraise\u001b[39;00m \u001b[38;5;167;01mAttributeError\u001b[39;00m(\n\u001b[0;32m   1124\u001b[0m         \u001b[38;5;124mf\u001b[39m\u001b[38;5;124m\"\u001b[39m\u001b[38;5;124mno field named \u001b[39m\u001b[38;5;132;01m{\u001b[39;00mwhere\u001b[38;5;132;01m!r}\u001b[39;00m\u001b[38;5;124m\"\u001b[39m \u001b[38;5;241m+\u001b[39m ak\u001b[38;5;241m.\u001b[39m_util\u001b[38;5;241m.\u001b[39mexception_suffix(\u001b[38;5;18m__file__\u001b[39m)\n\u001b[0;32m   1125\u001b[0m     )\n",
      "\u001b[1;31mAttributeError\u001b[0m: no field named 'shape'\n\n(https://github.com/scikit-hep/awkward-1.0/blob/1.10.5/src/awkward/highlevel.py#L1124)"
     ]
    }
   ],
   "source": [
    "#print(\"Shape theta0_G:\", theta0_G.shape)\n",
    "#print(\"Shape weights:\", myweights.shape)\n"
   ]
  },
  {
   "cell_type": "code",
   "execution_count": 25,
   "metadata": {},
   "outputs": [
    {
     "data": {
      "text/plain": [
       "<matplotlib.legend.Legend at 0x4b3f3ef10>"
      ]
     },
     "execution_count": 25,
     "metadata": {},
     "output_type": "execute_result"
    },
    {
     "data": {
      "image/png": "[encoded data removed]",
      "text/plain": [
       "<Figure size 640x480 with 1 Axes>"
      ]
     },
     "metadata": {},
     "output_type": "display_data"
    }
   ],
   "source": [
    " _,_,_=plt.hist(theta0_G[:,0],bins=np.linspace(-3,1000,200),color='blue',alpha=0.5,label=\"MC, gen\")\n",
    "_,_,_=plt.hist(theta_unknown_G[:,0],bins=np.linspace(-3,1000,200),color=['orange'],alpha=0.5,label=\"MCTest, gen\")\n",
    "_,_,_=plt.hist(theta0_G[:,0],bins=np.linspace(-3,1000,200),weights=myweights[-1, 0, :],color='black',histtype=\"step\",label=\"OmniFolded\")\n",
    "#_,_,_=plt.hist(theta_unknown_S[:,0],bins=np.linspace(-3,1000,200),color=['green'],alpha=0.5,label=\"got\")\n",
    "plt.xlabel(\"X1\")\n",
    "plt.ylabel(\"events\")\n",
    "plt.legend(frameon=False)"
   ]
  },
  {
   "cell_type": "code",
   "execution_count": 26,
   "metadata": {},
   "outputs": [
    {
     "data": {
      "text/plain": [
       "<matplotlib.legend.Legend at 0x29aabe290>"
      ]
     },
     "execution_count": 26,
     "metadata": {},
     "output_type": "execute_result"
    },
    {
     "data": {
      "image/png": "[encoded data removed]",
      "text/plain": [
       "<Figure size 640x480 with 1 Axes>"
      ]
     },
     "metadata": {},
     "output_type": "display_data"
    }
   ],
   "source": [
    " _,_,_=plt.hist(theta0_G[:,1],bins=np.linspace(-3,1000,200),color=['blue'],alpha=0.5,label=\"MC, gen\")\n",
    "_,_,_=plt.hist(theta_unknown_G[:,1],bins=np.linspace(-3,1000,200),color=['orange'],alpha=0.5,label=\"MCTest, gen\")\n",
    "_,_,_=plt.hist(theta0_G[:,1],bins=np.linspace(-3,1000,200),weights=myweights[-1, 0, :],color='black',histtype=\"step\",label=\"OmniFolded\")\n",
    "plt.xlabel(\"X2\")\n",
    "plt.ylabel(\"events\")\n",
    "plt.legend(frameon=False)"
   ]
  },
  {
   "cell_type": "code",
   "execution_count": 21,
   "metadata": {},
   "outputs": [],
   "source": [
    "# Draw the response matrix    \n",
    "# plt.figure(1)\n",
    "# G, xbins2d, ybins2d, patches2d = plt.hist2d(theta_unknown_S[:,0],theta_unknown_G[:,0], bins=np.linspace(-1,2,20), weights=myweights[0, -1, :], cmap='Blues')\n",
    "# plt.xlabel('True')\n",
    "# plt.ylabel('Reco')\n",
    "# plt.colorbar()"
   ]
  },
  {
   "cell_type": "code",
   "execution_count": 22,
   "metadata": {},
   "outputs": [],
   "source": [
    "# Draw the response matrix    \n",
    "# plt.figure(1)\n",
    "# G, xbins2d, ybins2d, patches2d = plt.hist2d(theta_unknown_S[:,1],theta_unknown_G[:,1], bins=np.linspace(-1,2,20), weights=myweights[0, -1, :], cmap='Blues')\n",
    "# plt.xlabel('True')\n",
    "# plt.ylabel('Reco')\n",
    "# plt.colorbar()"
   ]
  },
  {
   "cell_type": "code",
   "execution_count": null,
   "metadata": {},
   "outputs": [],
   "source": []
  }
 ],
 "metadata": {
  "kernelspec": {
   "display_name": "Python 3 (ipykernel)",
   "language": "python",
   "name": "python3"
  },
  "language_info": {
   "codemirror_mode": {
    "name": "ipython",
    "version": 3
   },
   "file_extension": ".py",
   "mimetype": "text/x-python",
   "name": "python",
   "nbconvert_exporter": "python",
   "pygments_lexer": "ipython3",
   "version": "3.11.5"
  },
  "notify_time": "0",
  "toc": {
   "base_numbering": 1,
   "nav_menu": {},
   "number_sections": false,
   "sideBar": true,
   "skip_h1_title": false,
   "title_cell": "Table of Contents",
   "title_sidebar": "Contents",
   "toc_cell": false,
   "toc_position": {},
   "toc_section_display": true,
   "toc_window_display": false
  }
 },
 "nbformat": 4,
 "nbformat_minor": 4
}
