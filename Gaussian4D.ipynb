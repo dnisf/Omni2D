{
 "cells": [
  {
   "cell_type": "code",
   "execution_count": 74,
   "metadata": {
    "ExecuteTime": {
     "end_time": "2020-11-17T03:48:59.924067Z",
     "start_time": "2020-11-17T03:48:57.190005Z"
    }
   },
   "outputs": [],
   "source": [
    "import numpy as np\n",
    "import uproot\n",
    "import aiohttp\n",
    "from matplotlib import pyplot as plt\n",
    "\n",
    "from keras.layers import Dense, Input\n",
    "from keras.models import Model\n",
    "\n",
    "import omnifold as of\n",
    "import os\n",
    "import tensorflow as tf"
   ]
  },
  {
   "cell_type": "code",
   "execution_count": 75,
   "metadata": {},
   "outputs": [],
   "source": [
    "stuff = np.random.normal( loc=[1.1, 1.8], scale=[0.8,0.5], size=(100000, 2) )"
   ]
  },
  {
   "cell_type": "code",
   "execution_count": 76,
   "metadata": {},
   "outputs": [
    {
     "name": "stdout",
     "output_type": "stream",
     "text": [
      "['/device:CPU:0']\n",
      "[]\n"
     ]
    }
   ],
   "source": [
    "from tensorflow.python.client import device_lib\n",
    "\n",
    "def get_available_devices():\n",
    "    local_device_protos = device_lib.list_local_devices()\n",
    "    return [x.name for x in local_device_protos]\n",
    "\n",
    "print(get_available_devices())\n",
    "print(tf.config.list_physical_devices('GPU'))"
   ]
  },
  {
   "cell_type": "code",
   "execution_count": 77,
   "metadata": {},
   "outputs": [
    {
     "name": "stdout",
     "output_type": "stream",
     "text": [
      "[]\n"
     ]
    }
   ],
   "source": [
    "physical_devices = tf.config.experimental.list_physical_devices('GPU')\n",
    "print(physical_devices)\n",
    "if physical_devices:\n",
    "  tf.config.experimental.set_memory_growth(physical_devices[0], True)"
   ]
  },
  {
   "cell_type": "code",
   "execution_count": 78,
   "metadata": {},
   "outputs": [],
   "source": [
    "#print(stuff.shape)\n",
    "#plt.hist2d( stuff[:,0], stuff[:,1] )"
   ]
  },
  {
   "cell_type": "code",
   "execution_count": 79,
   "metadata": {},
   "outputs": [
    {
     "name": "stdout",
     "output_type": "stream",
     "text": [
      "[]\n"
     ]
    }
   ],
   "source": [
    "gpus = tf.config.experimental.list_physical_devices('GPU')\n",
    "print(gpus)\n",
    "#tf.config.experimental.set_virtual_device_configuration(\n",
    "#    gpus[1],[tf.config.experimental.VirtualDeviceConfiguration(memory_limit=1024)]) #in MB"
   ]
  },
  {
   "cell_type": "code",
   "execution_count": null,
   "metadata": {},
   "outputs": [],
   "source": []
  },
  {
   "cell_type": "code",
   "execution_count": null,
   "metadata": {},
   "outputs": [],
   "source": []
  },
  {
   "cell_type": "code",
   "execution_count": 82,
   "metadata": {},
   "outputs": [],
   "source": [
    "def synthroot(filename, data, data2):\n",
    "    with uproot.recreate(filename) as file:\n",
    "        file[\"testree\"] = {\"theta0\": data, \"theta_unknown_S\": data2}\n",
    "        file[\"twotree\"] = {\"theta0Z\": data, \"thetaUS\": data2}\n"
   ]
  },
  {
   "cell_type": "code",
   "execution_count": 118,
   "metadata": {
    "ExecuteTime": {
     "end_time": "2020-11-17T03:49:24.308730Z",
     "start_time": "2020-11-17T03:48:59.981078Z"
    }
   },
   "outputs": [
    {
     "name": "stdout",
     "output_type": "stream",
     "text": [
      "Shape theta0_G: (100000, 4)\n",
      "Shape theta0: (100000, 2, 4)\n"
     ]
    }
   ],
   "source": [
    "N = 10**5\n",
    "n = 4  # dimensions of observables\n",
    "\n",
    "# Synthetic\n",
    "theta0_G = np.column_stack((\n",
    "    np.random.normal(1.1, 0.8, N),   # 1st dimension (normal)\n",
    "    np.random.normal(1.8, 0.5, N),   # 2nd dimension (normal)\n",
    "    np.random.normal(0.5, 0.2, N),   # 3rd dimension (normal)\n",
    "    np.random.laplace(2, 12, N)\n",
    "    #np.random.laplace(3, N)          # 4th dimension (Laplace ;^)\n",
    "))\n",
    "\n",
    "theta0_S = np.random.normal(0, 0.5, (N, n)) + theta0_G  # Detector smearing for synthetic sample but different\n",
    "\n",
    "theta0t = np.stack((theta0_G, theta0_S), axis=1)  # axis=1 to maintain stack property\n",
    "\n",
    "print(\"Shape theta0_G:\", theta0_G.shape)\n",
    "print(\"Shape theta0:\", theta0t.shape)\n",
    "\n",
    "# Natural\n",
    "theta_unknown_G = np.column_stack([\n",
    "    np.random.normal(1, .5, N),       # First dimension\n",
    "    np.random.normal(1.5, .3, N),     # Second dimension\n",
    "    np.random.normal(0.3, .1, N),     # 3rd dimension (normal)\n",
    "    np.random.laplace(1.8, 11.6, N)         # 4th dimension (Laplace ;^)\n",
    "])\n",
    "\n",
    "theta_unknown_St = np.random.normal(0, 0.5, (N, n)) + theta_unknown_G\n",
    "\n",
    "# Save data to a fake ROOT file\n",
    "synthroot(\"synth_data3.root\", theta0t, theta_unknown_St)\n",
    "\n",
    "#Root file path\n",
    "rootfile = \"synth_data3.root\"\n"
   ]
  },
  {
   "cell_type": "code",
   "execution_count": 9,
   "metadata": {},
   "outputs": [
    {
     "name": "stdout",
     "output_type": "stream",
     "text": [
      "['events;1']\n"
     ]
    }
   ],
   "source": [
    "testroot = uproot.open(\"https://scikit-hep.org/uproot3/examples/Zmumu.root\")\n",
    "print(testroot.keys())"
   ]
  },
  {
   "cell_type": "code",
   "execution_count": 119,
   "metadata": {},
   "outputs": [
    {
     "name": "stdout",
     "output_type": "stream",
     "text": [
      "['testree;1', 'twotree;1']\n",
      "name                 | typename                 | interpretation                \n",
      "---------------------+--------------------------+-------------------------------\n",
      "theta0               | double[2][4]             | AsDtype(\"('>f8', (2, 4))\")\n",
      "theta_unknown_S      | double[4]                | AsDtype(\"('>f8', (4,))\")\n",
      "---next key data---\n",
      "name                 | typename                 | interpretation                \n",
      "---------------------+--------------------------+-------------------------------\n",
      "theta0Z              | double[2][4]             | AsDtype(\"('>f8', (2, 4))\")\n",
      "thetaUS              | double[4]                | AsDtype(\"('>f8', (4,))\")\n",
      "---next key data---\n",
      "['theta0', 'theta_unknown_S']\n",
      "[]\n"
     ]
    }
   ],
   "source": [
    "#General root file opened in jetdata\n",
    "jetdata = uproot.open(rootfile)\n",
    "print(jetdata.keys())\n",
    "jetdata['testree']\n",
    "\n",
    "events = []\n",
    "\n",
    "for key in jetdata.keys():\n",
    "    microevent = []\n",
    "    jetdata[key].show()\n",
    "    #microevent.extend(jetdata[key].keys())\n",
    "    #events.append(microevent)\n",
    "    #events.append(*jetdata[key].keys())\n",
    "    print(\"---next key data---\")\n",
    "\n",
    "#events = jetdata['testree'] #uproot.open(\"synth_data.root:testree\")\n",
    "#events.show()\n",
    "#print(events.keys())\n",
    "print(jetdata['testree'].keys())\n",
    "print(events) \n"
   ]
  },
  {
   "cell_type": "code",
   "execution_count": 15,
   "metadata": {},
   "outputs": [
    {
     "name": "stdout",
     "output_type": "stream",
     "text": [
      "Shape theta0c_G: (100000, 4)\n",
      "Shape 0_S: (100000, 4)\n",
      "Shape theta0: (100000, 2, 4)\n",
      "Shape unknown s: (100000, 4)\n"
     ]
    },
    {
     "ename": "TypeError",
     "evalue": "list indices must be integers or slices, not str",
     "output_type": "error",
     "traceback": [
      "\u001b[1;31m---------------------------------------------------------------------------\u001b[0m",
      "\u001b[1;31mTypeError\u001b[0m                                 Traceback (most recent call last)",
      "Cell \u001b[1;32mIn[15], line 8\u001b[0m\n\u001b[0;32m      4\u001b[0m \u001b[38;5;28mprint\u001b[39m(\u001b[38;5;124m\"\u001b[39m\u001b[38;5;124mShape unknown s:\u001b[39m\u001b[38;5;124m\"\u001b[39m, theta_unknown_St\u001b[38;5;241m.\u001b[39mshape)\n\u001b[0;32m      5\u001b[0m \u001b[38;5;66;03m#print(\"Shape theta0 Tree:\", events[\"theta0\"].array(library=\"np\").shape)\u001b[39;00m\n\u001b[0;32m      6\u001b[0m \u001b[38;5;66;03m#print(\"Shape unknown s Tree:\", events[\"theta_unknown_S\"].array(library=\"np\").shape)\u001b[39;00m\n\u001b[1;32m----> 8\u001b[0m theta0 \u001b[38;5;241m=\u001b[39m \u001b[43mevents\u001b[49m\u001b[43m[\u001b[49m\u001b[38;5;124;43m\"\u001b[39;49m\u001b[38;5;124;43mtheta0\u001b[39;49m\u001b[38;5;124;43m\"\u001b[39;49m\u001b[43m]\u001b[49m\u001b[38;5;241m.\u001b[39marray(library\u001b[38;5;241m=\u001b[39m\u001b[38;5;124m\"\u001b[39m\u001b[38;5;124mnp\u001b[39m\u001b[38;5;124m\"\u001b[39m)\n\u001b[0;32m      9\u001b[0m theta_unknown_S \u001b[38;5;241m=\u001b[39m events[\u001b[38;5;124m\"\u001b[39m\u001b[38;5;124mtheta_unknown_S\u001b[39m\u001b[38;5;124m\"\u001b[39m]\u001b[38;5;241m.\u001b[39marray(library\u001b[38;5;241m=\u001b[39m\u001b[38;5;124m\"\u001b[39m\u001b[38;5;124mnp\u001b[39m\u001b[38;5;124m\"\u001b[39m)\n",
      "\u001b[1;31mTypeError\u001b[0m: list indices must be integers or slices, not str"
     ]
    }
   ],
   "source": [
    "print(\"Shape theta0c_G:\", theta0_G.shape)\n",
    "print(\"Shape 0_S:\", theta0_S.shape)\n",
    "print(\"Shape theta0:\", theta0t.shape)\n",
    "print(\"Shape unknown s:\", theta_unknown_St.shape)\n",
    "#print(\"Shape theta0 Tree:\", events[\"theta0\"].array(library=\"np\").shape)\n",
    "#print(\"Shape unknown s Tree:\", events[\"theta_unknown_S\"].array(library=\"np\").shape)\n",
    "\n",
    "theta0 = events[\"theta0\"].array(library=\"np\")\n",
    "theta_unknown_S = events[\"theta_unknown_S\"].array(library=\"np\")"
   ]
  },
  {
   "cell_type": "code",
   "execution_count": 127,
   "metadata": {},
   "outputs": [
    {
     "data": {
      "text/plain": [
       "(array([3.000e+00, 8.000e+00, 1.000e+01, 1.300e+01, 1.400e+01, 1.200e+01,\n",
       "        1.100e+01, 1.900e+01, 2.300e+01, 2.200e+01, 2.900e+01, 2.600e+01,\n",
       "        3.800e+01, 4.000e+01, 5.800e+01, 6.300e+01, 6.700e+01, 7.400e+01,\n",
       "        9.200e+01, 1.010e+02, 1.110e+02, 1.320e+02, 1.560e+02, 1.640e+02,\n",
       "        1.820e+02, 2.450e+02, 2.660e+02, 2.790e+02, 3.270e+02, 3.850e+02,\n",
       "        4.330e+02, 5.400e+02, 5.960e+02, 6.940e+02, 7.230e+02, 8.530e+02,\n",
       "        9.860e+02, 1.142e+03, 1.279e+03, 1.362e+03, 1.788e+03, 1.943e+03,\n",
       "        2.151e+03, 2.587e+03, 2.823e+03, 3.355e+03, 3.773e+03, 4.406e+03,\n",
       "        5.024e+03, 5.754e+03, 6.414e+03, 6.063e+03, 5.285e+03, 4.676e+03,\n",
       "        4.095e+03, 3.566e+03, 3.114e+03, 2.726e+03, 2.376e+03, 2.097e+03,\n",
       "        1.803e+03, 1.603e+03, 1.344e+03, 1.212e+03, 1.092e+03, 9.490e+02,\n",
       "        7.880e+02, 6.840e+02, 6.250e+02, 5.280e+02, 4.730e+02, 3.920e+02,\n",
       "        3.860e+02, 3.160e+02, 2.760e+02, 2.350e+02, 2.180e+02, 1.520e+02,\n",
       "        1.600e+02, 1.360e+02, 1.010e+02, 1.060e+02, 1.050e+02, 6.400e+01,\n",
       "        6.200e+01, 8.300e+01, 6.700e+01, 4.100e+01, 4.700e+01, 3.700e+01,\n",
       "        3.000e+01, 2.900e+01, 2.600e+01, 2.100e+01, 1.800e+01, 1.900e+01,\n",
       "        1.700e+01, 1.400e+01, 1.100e+01]),\n",
       " array([-80.        , -78.38383838, -76.76767677, -75.15151515,\n",
       "        -73.53535354, -71.91919192, -70.3030303 , -68.68686869,\n",
       "        -67.07070707, -65.45454545, -63.83838384, -62.22222222,\n",
       "        -60.60606061, -58.98989899, -57.37373737, -55.75757576,\n",
       "        -54.14141414, -52.52525253, -50.90909091, -49.29292929,\n",
       "        -47.67676768, -46.06060606, -44.44444444, -42.82828283,\n",
       "        -41.21212121, -39.5959596 , -37.97979798, -36.36363636,\n",
       "        -34.74747475, -33.13131313, -31.51515152, -29.8989899 ,\n",
       "        -28.28282828, -26.66666667, -25.05050505, -23.43434343,\n",
       "        -21.81818182, -20.2020202 , -18.58585859, -16.96969697,\n",
       "        -15.35353535, -13.73737374, -12.12121212, -10.50505051,\n",
       "         -8.88888889,  -7.27272727,  -5.65656566,  -4.04040404,\n",
       "         -2.42424242,  -0.80808081,   0.80808081,   2.42424242,\n",
       "          4.04040404,   5.65656566,   7.27272727,   8.88888889,\n",
       "         10.50505051,  12.12121212,  13.73737374,  15.35353535,\n",
       "         16.96969697,  18.58585859,  20.2020202 ,  21.81818182,\n",
       "         23.43434343,  25.05050505,  26.66666667,  28.28282828,\n",
       "         29.8989899 ,  31.51515152,  33.13131313,  34.74747475,\n",
       "         36.36363636,  37.97979798,  39.5959596 ,  41.21212121,\n",
       "         42.82828283,  44.44444444,  46.06060606,  47.67676768,\n",
       "         49.29292929,  50.90909091,  52.52525253,  54.14141414,\n",
       "         55.75757576,  57.37373737,  58.98989899,  60.60606061,\n",
       "         62.22222222,  63.83838384,  65.45454545,  67.07070707,\n",
       "         68.68686869,  70.3030303 ,  71.91919192,  73.53535354,\n",
       "         75.15151515,  76.76767677,  78.38383838,  80.        ]),\n",
       " <BarContainer object of 99 artists>)"
      ]
     },
     "execution_count": 127,
     "metadata": {},
     "output_type": "execute_result"
    },
    {
     "data": {
      "image/png": "[encoded data removed]",
      "text/plain": [
       "<Figure size 640x480 with 1 Axes>"
      ]
     },
     "metadata": {},
     "output_type": "display_data"
    }
   ],
   "source": [
    "plt.hist( theta0_G[:,0], bins=np.linspace(-3,3, 100) )\n",
    "plt.hist( theta0_G[:,1], bins=np.linspace(-3,4, 100) )\n",
    "plt.hist( theta0_G[:,2], bins=np.linspace(-3,3, 100) )\n",
    "plt.hist( theta0_G[:,3], bins=np.linspace(-80,80, 100) )\n"
   ]
  },
  {
   "cell_type": "code",
   "execution_count": 128,
   "metadata": {},
   "outputs": [
    {
     "data": {
      "text/plain": [
       "<matplotlib.legend.Legend at 0x144fbab5590>"
      ]
     },
     "execution_count": 128,
     "metadata": {},
     "output_type": "execute_result"
    },
    {
     "data": {
      "image/png": "[encoded data removed]",
      "text/plain": [
       "<Figure size 640x480 with 1 Axes>"
      ]
     },
     "metadata": {},
     "output_type": "display_data"
    }
   ],
   "source": [
    "_,_,_=plt.hist(theta0_G[:,0],bins=np.linspace(-3,3,20),color='blue',alpha=0.5,label=\"MC, true\")\n",
    "_,_,_=plt.hist(theta0_S[:,0],bins=np.linspace(-3,3,20),histtype=\"step\",color='black',ls=':',label=\"MC, reco\")\n",
    "_,_,_=plt.hist(theta_unknown_G[:,0],bins=np.linspace(-3,3,20),color='orange',alpha=0.5,label=\"Data, true\")\n",
    "_,_,_=plt.hist(theta_unknown_St[:,0],bins=np.linspace(-3,90,20),histtype=\"step\",color='black',label=\"Data, reco\")\n",
    "plt.xlabel(\"x1\")\n",
    "plt.ylabel(\"events\")\n",
    "plt.legend(frameon=False)\n"
   ]
  },
  {
   "cell_type": "code",
   "execution_count": 130,
   "metadata": {},
   "outputs": [
    {
     "name": "stderr",
     "output_type": "stream",
     "text": [
      "No artists with labels found to put in legend.  Note that artists whose label start with an underscore are ignored when legend() is called with no argument.\n"
     ]
    },
    {
     "data": {
      "text/plain": [
       "<matplotlib.legend.Legend at 0x144ffd1e310>"
      ]
     },
     "execution_count": 130,
     "metadata": {},
     "output_type": "execute_result"
    },
    {
     "data": {
      "image/png": "[encoded data removed]",
      "text/plain": [
       "<Figure size 640x480 with 1 Axes>"
      ]
     },
     "metadata": {},
     "output_type": "display_data"
    }
   ],
   "source": [
    "plt.hist( theta_unknown_G[:,0], bins=np.linspace(-3,3, 100) )\n",
    "plt.hist( theta_unknown_G[:,1], bins=np.linspace(-3,4, 100) )\n",
    "plt.hist( theta_unknown_G[:,2], bins=np.linspace(-3,3, 100) )\n",
    "plt.hist( theta_unknown_G[:,3], bins=np.linspace(-3,1000, 100) )\n",
    "plt.xlabel(\"x2\")\n",
    "plt.ylabel(\"events\")\n",
    "plt.legend(frameon=False)\n"
   ]
  },
  {
   "cell_type": "code",
   "execution_count": 25,
   "metadata": {},
   "outputs": [],
   "source": [
    "# # test 4d\n",
    "# np.random.seed(42)\n",
    "# a = np.random.randint(0, 5, 100)\n",
    "# b = np.random.randint(0, 5, 100)\n",
    "# c = np.random.rand(100)\n",
    "# d = np.random.rand(100)\n",
    "\n",
    "# fig, axs = plt.subplots(5, 5, sharex='col', sharey='row', figsize=(10, 10))\n",
    "\n",
    "# for i in range(5):\n",
    "#     for j in range(5):\n",
    "#         #filter\n",
    "#         mask = (a == i) & (b == j)\n",
    "#         current_c = c[mask]\n",
    "#         current_d = d[mask]\n",
    "\n",
    "#         #scatter in sub\n",
    "#         axs[i, j].scatter(current_c, current_d, s=10)\n",
    "\n",
    "#         #labels\n",
    "#         axs[i, j].set_xlabel('c')\n",
    "#         axs[i, j].set_ylabel('d')\n",
    "\n",
    "#         #title\n",
    "#         axs[i, j].set_title(f'a={i}, b={j}')\n",
    "\n",
    "# plt.tight_layout()\n",
    "# plt.show()\n"
   ]
  },
  {
   "cell_type": "code",
   "execution_count": 102,
   "metadata": {},
   "outputs": [
    {
     "data": {
      "image/png": "[encoded data removed]",
      "text/plain": [
       "<Figure size 1000x800 with 2 Axes>"
      ]
     },
     "metadata": {},
     "output_type": "display_data"
    }
   ],
   "source": [
    "#Data, true\n",
    "plt.figure(figsize=(10, 8))\n",
    "plt.hist2d(theta_unknown_St[:, 0], theta_unknown_St[:, 1], bins=(20, 20), cmap='Oranges', alpha=0.5, label=\"Data, true\")\n",
    "plt.colorbar()\n",
    "plt.xlabel(\"x1\")\n",
    "plt.ylabel(\"x2\")\n",
    "plt.title(\"Hist: Data, true\")\n",
    "plt.show()"
   ]
  },
  {
   "cell_type": "code",
   "execution_count": 27,
   "metadata": {},
   "outputs": [],
   "source": [
    "# #Data, true\n",
    "# theshape=theta_unknown_S.shape\n",
    "# print(theshape)\n",
    "# N = theshape[0] * theshape[1]\n",
    "# plt.figure(figsize=(10, 8))\n",
    "# plt.hist(theta_unknown_S.reshape(N), cmap='Oranges', alpha=0.5, label=\"Data, true\")\n",
    "# plt.show()"
   ]
  },
  {
   "cell_type": "code",
   "execution_count": 28,
   "metadata": {},
   "outputs": [],
   "source": [
    "# _, _, _ = plt.hist2d(theta0_G[:, 0], theta0_G[:, 1], bins=(20, 20), cmap='Blues', alpha=0.5, label=\"MC, true\")\n",
    "# _, _, _ = plt.hist2d(theta_unknown_G[:, 0], theta_unknown_G[:, 1], bins=(20, 20), cmap='Oranges', alpha=0.5, label=\"Data, true\")\n",
    "# _, _, _ = plt.hist2d(theta0_G[:, 0], theta0_G[:, 1], bins=(20, 20), weights=myweights[-1, 0, :], cmap='Greys', alpha=0.5, label=\"OmniFolded\")\n",
    "# plt.xlabel(\"x1\")\n",
    "# plt.ylabel(\"x2\")\n",
    "# plt.legend(frameon=False)\n",
    "# plt.show()\n"
   ]
  },
  {
   "cell_type": "code",
   "execution_count": 131,
   "metadata": {},
   "outputs": [],
   "source": [
    "inputs = Input((4,))  # 4D input\n",
    "hidden_layer_1 = Dense(50, activation='relu')(inputs)\n",
    "hidden_layer_2 = Dense(50, activation='relu')(hidden_layer_1)\n",
    "hidden_layer_3 = Dense(50, activation='relu')(hidden_layer_2)\n",
    "outputs = Dense(1, activation='sigmoid')(hidden_layer_3)\n",
    "model = Model(inputs=inputs, outputs=outputs)"
   ]
  },
  {
   "cell_type": "code",
   "execution_count": 132,
   "metadata": {},
   "outputs": [
    {
     "name": "stdout",
     "output_type": "stream",
     "text": [
      "theta0G (100000, 4), labels (100000,), labels unknown (100000,), theta 0(100000, 2, 4), theta unknown s(100000, 4)\n",
      "10/10 [==============================] - 0s 4ms/step\n",
      "10/10 [==============================] - 0s 4ms/step\n",
      "10/10 [==============================] - 0s 4ms/step\n",
      "10/10 [==============================] - 0s 5ms/step\n",
      "10/10 [==============================] - 0s 4ms/step\n",
      "10/10 [==============================] - 0s 4ms/step\n",
      "10/10 [==============================] - 0s 4ms/step\n",
      "10/10 [==============================] - 0s 4ms/step\n",
      "10/10 [==============================] - 0s 4ms/step\n",
      "10/10 [==============================] - 0s 4ms/step\n",
      "10/10 [==============================] - 0s 4ms/step\n",
      "10/10 [==============================] - 0s 4ms/step\n",
      "10/10 [==============================] - 0s 5ms/step\n",
      "10/10 [==============================] - 0s 4ms/step\n",
      "10/10 [==============================] - 0s 4ms/step\n",
      "10/10 [==============================] - 0s 5ms/step\n",
      "10/10 [==============================] - 0s 4ms/step\n",
      "10/10 [==============================] - 0s 4ms/step\n",
      "10/10 [==============================] - 0s 4ms/step\n",
      "10/10 [==============================] - 0s 4ms/step\n",
      "10/10 [==============================] - 0s 4ms/step\n",
      "10/10 [==============================] - 0s 4ms/step\n",
      "10/10 [==============================] - 0s 5ms/step\n",
      "10/10 [==============================] - 0s 4ms/step\n",
      "10/10 [==============================] - 0s 4ms/step\n",
      "10/10 [==============================] - 0s 4ms/step\n",
      "10/10 [==============================] - 0s 4ms/step\n",
      "10/10 [==============================] - 0s 4ms/step\n",
      "10/10 [==============================] - 0s 4ms/step\n",
      "10/10 [==============================] - 0s 4ms/step\n",
      "10/10 [==============================] - 0s 4ms/step\n",
      "10/10 [==============================] - 0s 5ms/step\n",
      "10/10 [==============================] - 0s 4ms/step\n",
      "10/10 [==============================] - 0s 5ms/step\n",
      "10/10 [==============================] - 0s 5ms/step\n",
      "10/10 [==============================] - 0s 5ms/step\n",
      "10/10 [==============================] - 0s 4ms/step\n",
      "10/10 [==============================] - 0s 9ms/step\n",
      "10/10 [==============================] - 0s 6ms/step\n",
      "10/10 [==============================] - 0s 5ms/step\n",
      "10/10 [==============================] - 0s 5ms/step\n",
      "10/10 [==============================] - 0s 5ms/step\n",
      "10/10 [==============================] - 0s 4ms/step\n",
      "10/10 [==============================] - 0s 5ms/step\n",
      "10/10 [==============================] - 0s 5ms/step\n",
      "10/10 [==============================] - 0s 5ms/step\n",
      "10/10 [==============================] - 0s 5ms/step\n",
      "10/10 [==============================] - 0s 5ms/step\n",
      "10/10 [==============================] - 0s 6ms/step\n",
      "10/10 [==============================] - 0s 5ms/step\n"
     ]
    }
   ],
   "source": [
    "myweights = of.omnifold(theta0t,theta_unknown_St,25,model)"
   ]
  },
  {
   "cell_type": "code",
   "execution_count": 133,
   "metadata": {},
   "outputs": [],
   "source": [
    "# #needless\n",
    "# plt.hist2d(theta0_G[:, 0], theta0_G[:, 1], bins=(20, 20), cmap='Blues', alpha=0.5, label=\"MC, true\")\n",
    "# plt.hist2d(theta_unknown_G[:, 0], theta_unknown_G[:, 1], bins=(20, 20), cmap='Oranges', alpha=0.5, label=\"Data, true\")\n",
    "# plt.hist2d(theta0_G[:, 0], theta0_G[:, 1], bins=(20, 20), weights=myweights[-1, 0, :], cmap='Greys', alpha=0.5, label=\"OmniFolded\")\n",
    "# plt.xlabel(\"x1\")\n",
    "# plt.ylabel(\"x2\")\n",
    "# plt.legend(frameon=False)\n",
    "# plt.show()"
   ]
  },
  {
   "cell_type": "code",
   "execution_count": 134,
   "metadata": {},
   "outputs": [
    {
     "name": "stdout",
     "output_type": "stream",
     "text": [
      "Shape theta0_G: (100000, 4)\n",
      "Shape weights: (25, 2, 100000)\n"
     ]
    }
   ],
   "source": [
    "print(\"Shape theta0_G:\", theta0_G.shape)\n",
    "print(\"Shape weights:\", myweights.shape)\n"
   ]
  },
  {
   "cell_type": "code",
   "execution_count": 193,
   "metadata": {},
   "outputs": [
    {
     "data": {
      "text/plain": [
       "<matplotlib.legend.Legend at 0x14576d17f90>"
      ]
     },
     "execution_count": 193,
     "metadata": {},
     "output_type": "execute_result"
    },
    {
     "data": {
      "image/png": "[encoded data removed]",
      "text/plain": [
       "<Figure size 640x480 with 1 Axes>"
      ]
     },
     "metadata": {},
     "output_type": "display_data"
    }
   ],
   "source": [
    "_,_,_=plt.hist(theta0_G[:,0],bins=np.linspace(-3,3,100),color='blue',alpha=0.5,label=\"MC, true\")\n",
    "_,_,_=plt.hist(theta_unknown_G[:,0],bins=np.linspace(-3,3,100),color=['orange'],alpha=0.5,label=\"Data, true\")\n",
    "_,_,_=plt.hist(theta0_G[:,0],bins=np.linspace(-3,3,100),weights=myweights[-1, 0, :],color='black',histtype=\"step\",label=\"OmniFolded\")\n",
    "plt.xlabel(\"X1\")\n",
    "plt.ylabel(\"events\")\n",
    "plt.legend(frameon=False)"
   ]
  },
  {
   "cell_type": "code",
   "execution_count": 192,
   "metadata": {},
   "outputs": [
    {
     "data": {
      "text/plain": [
       "<matplotlib.legend.Legend at 0x14576cc62d0>"
      ]
     },
     "execution_count": 192,
     "metadata": {},
     "output_type": "execute_result"
    },
    {
     "data": {
      "image/png": "[encoded data removed]",
      "text/plain": [
       "<Figure size 640x480 with 1 Axes>"
      ]
     },
     "metadata": {},
     "output_type": "display_data"
    }
   ],
   "source": [
    "_,_,_=plt.hist(theta0_G[:,1],bins=np.linspace(-1,4,100),color=['blue'],alpha=0.5,label=\"MC, true\")\n",
    "_,_,_=plt.hist(theta_unknown_G[:,1],bins=np.linspace(-1,4,100),color=['orange'],alpha=0.5,label=\"Data, true\")\n",
    "_,_,_=plt.hist(theta0_G[:,1],bins=np.linspace(-1,4,100),weights=myweights[-1, 0, :],color='black',histtype=\"step\",label=\"OmniFolded\")\n",
    "plt.xlabel(\"X2\")\n",
    "plt.ylabel(\"events\")\n",
    "plt.legend(frameon=False)"
   ]
  },
  {
   "cell_type": "code",
   "execution_count": 21,
   "metadata": {},
   "outputs": [],
   "source": [
    "# Draw the response matrix    \n",
    "# plt.figure(1)\n",
    "# G, xbins2d, ybins2d, patches2d = plt.hist2d(theta_unknown_S[:,0],theta_unknown_G[:,0], bins=np.linspace(-1,2,20), weights=myweights[0, -1, :], cmap='Blues')\n",
    "# plt.xlabel('True')\n",
    "# plt.ylabel('Reco')\n",
    "# plt.colorbar()"
   ]
  },
  {
   "cell_type": "code",
   "execution_count": 22,
   "metadata": {},
   "outputs": [],
   "source": [
    "# Draw the response matrix    \n",
    "# plt.figure(1)\n",
    "# G, xbins2d, ybins2d, patches2d = plt.hist2d(theta_unknown_S[:,1],theta_unknown_G[:,1], bins=np.linspace(-1,2,20), weights=myweights[0, -1, :], cmap='Blues')\n",
    "# plt.xlabel('True')\n",
    "# plt.ylabel('Reco')\n",
    "# plt.colorbar()"
   ]
  },
  {
   "cell_type": "code",
   "execution_count": null,
   "metadata": {},
   "outputs": [],
   "source": []
  }
 ],
 "metadata": {
  "kernelspec": {
   "display_name": "Python 3 (ipykernel)",
   "language": "python",
   "name": "python3"
  },
  "language_info": {
   "codemirror_mode": {
    "name": "ipython",
    "version": 3
   },
   "file_extension": ".py",
   "mimetype": "text/x-python",
   "name": "python",
   "nbconvert_exporter": "python",
   "pygments_lexer": "ipython3",
   "version": "3.11.0"
  },
  "notify_time": "0",
  "toc": {
   "base_numbering": 1,
   "nav_menu": {},
   "number_sections": false,
   "sideBar": true,
   "skip_h1_title": false,
   "title_cell": "Table of Contents",
   "title_sidebar": "Contents",
   "toc_cell": false,
   "toc_position": {},
   "toc_section_display": true,
   "toc_window_display": false
  }
 },
 "nbformat": 4,
 "nbformat_minor": 4
}
