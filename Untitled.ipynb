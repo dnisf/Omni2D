{
 "cells": [
  {
   "cell_type": "code",
   "execution_count": 17,
   "id": "72880b5b-8e35-4971-9bb7-60c3f81fc9b0",
   "metadata": {},
   "outputs": [],
   "source": [
    "import awkward as ak\n",
    "import numpy as np\n",
    "import uproot\n",
    "import coffea\n",
    "from coffea.nanoevents import NanoEventsFactory, NanoAODSchema"
   ]
  },
  {
   "cell_type": "code",
   "execution_count": null,
   "id": "fd6d4d2c-a993-4529-8f27-ef323f5e75ad",
   "metadata": {},
   "outputs": [],
   "source": []
  },
  {
   "cell_type": "code",
   "execution_count": 19,
   "id": "4b1b5bf3-0f23-42ba-ab03-a3d98f281382",
   "metadata": {},
   "outputs": [],
   "source": []
  },
  {
   "cell_type": "code",
   "execution_count": 20,
   "id": "37efcd9f-9cf8-44e7-8588-834e8ea7ae53",
   "metadata": {},
   "outputs": [
    {
     "name": "stdout",
     "output_type": "stream",
     "text": [
      "[[[1], [1, 2], [1, 2, 3]], [], [[1, 2, 3, 4], [1, 2, 3, 4, 5]]]\n"
     ]
    }
   ],
   "source": []
  },
  {
   "cell_type": "code",
   "execution_count": 27,
   "id": "27fc3f78-5370-4efc-a7b2-9cf6739c0d00",
   "metadata": {},
   "outputs": [],
   "source": []
  },
  {
   "cell_type": "code",
   "execution_count": 113,
   "id": "cc1bdb96-50c4-4b37-b155-0579770bf080",
   "metadata": {},
   "outputs": [
    {
     "name": "stdout",
     "output_type": "stream",
     "text": [
      "tk8\n",
      "[True, True, False, True, False, False, ... True, True, True, True, True, True]\n",
      "tes\n",
      "[[], [], [392, 363], [], ... 242], [6.18e+03, 6.18e+03], [2.86e+03, 2.42e+03]]\n",
      "tpt\n",
      "[False, False, True, False, True, True, True, ... True, True, True, True, True, True]\n",
      "[[392, 363], [189], [1.45e+03, ... [6.18e+03, 6.18e+03], [2.86e+03, 2.42e+03]]\n",
      "FatJet_pt\n",
      "GenJetAK8_mass\n",
      "FatJet_mass\n",
      "GenJetAK8_pt\n",
      "GenJetAK8_pt\n",
      "FatJet_mass\n",
      "GenJetAK8_mass\n",
      "FatJet_pt\n",
      "LOOP DONE\n",
      "[[392], [189], [1.45e+03], [778], ... [668], [2.34e+03], [6.18e+03], [2.86e+03]]\n"
     ]
    }
   ],
   "source": [
    "events = uproot.open(\"QCD_pt.root:Events\")\n",
    "#print(events.keys())\n",
    "\n",
    "qcd_mc = uproot.open('QCD_pt.root')\n",
    "uprootevents = qcd_mc['Events']\n",
    "#print(uprootevents.keys())\n",
    "#print(events.keys('FatJet*'))\n",
    "\n",
    "#fatjet_pt = uprootevents['FatJet_pt'].array()\n",
    "#print(ak.num(fatjet_pt))\n",
    "#Ev = events[ak.num(events['FatJet_pt'].array())>0]\n",
    "#print(Ev)\n",
    "\n",
    "\n",
    "\n",
    "fk8 = events['GenJetAK8_pt'].array() # array of all 0s in Genjet\n",
    "tk8 = ak.num(fk8) > 0\n",
    "print('tk8')\n",
    "print(tk8)\n",
    "#print(fpt[tpt])\n",
    "\n",
    "\n",
    "fpt = events['FatJet_pt'].array() # Fat jet with all genjet 0s removed \n",
    "tes = fpt[tk8]\n",
    "print('tes')\n",
    "print(tes)\n",
    "\n",
    "tpt = ak.num(tes) > 0  # Fat jet with both Fat 0s and Gen 0s removed\n",
    "print('tpt')\n",
    "print(tpt)\n",
    "print(tes[tpt])\n",
    "\n",
    "\n",
    "testquants = ['FatJet_pt','FatJet_mass','GenJetAK8_pt','GenJetAK8_mass']\n",
    "quantvals = []\n",
    "\n",
    "for quantity in range(len(testquants)):\n",
    "    print(testquants[quantity])\n",
    "    print(testquants[-(1+quantity)])\n",
    "    fk8 = events[testquants[-(1+quantity)]].array() # array of all 0s in secondary jet\n",
    "    tk8 = ak.num(fk8) > 0\n",
    "    #print('tk8')\n",
    "    #print(tk8)\n",
    "    #print(fpt[tpt])\n",
    "    \n",
    "    \n",
    "    fpt = events[testquants[quantity]].array() # output jet with all secondary jet 0s removed \n",
    "    tes = fpt[tk8]\n",
    "    #print('tes')\n",
    "    #print(tes)\n",
    "    \n",
    "    tpt = ak.num(tes) > 0  # primary jet with both its own 0s and secondary jet 0s removed\n",
    "    #print('tpt')\n",
    "    #print(tpt)\n",
    "    #print(tes[tpt][:,:1])\n",
    "    quantvals.append(tes[tpt][:,:1])\n",
    "    \n",
    "\n",
    "print(\"LOOP DONE\")\n",
    "#print(uprootevents.keys('FatJet*'))\n",
    "#### getting leading jet pt and mass as storing as numpy-like array\n",
    "jetr = tes[tpt][:,:1]\n",
    "\n",
    "jet_recopt = quantvals[0]\n",
    "jet_recomass = quantvals[1]\n",
    "jet_genpt = quantvals[2]\n",
    "jet_genmass = quantvals[3]\n",
    "\n",
    "\n",
    "#jet_recopt = events['FatJet_pt'].array()[:,:1]\n",
    "#jet_recomass = uprootevents['FatJet_mass'].array()[:,:1]\n",
    "#jet_genpt = uprootevents['GenJetAK8_pt'].array()[:,:1]\n",
    "#jet_genmass = uprootevents['GenJetAK8_mass'].array()[:,:1]\n",
    "print(jet_recopt)\n",
    "#print(jetr)\n",
    "\n",
    "\n",
    "#Events = events[ak.num(events['FatJet_pt'].array()) > 0]\n",
    "#Events = events[ak.num(events.keys('FatJet*')) > 0]"
   ]
  },
  {
   "cell_type": "code",
   "execution_count": 135,
   "id": "c693d503-f1f4-472e-8205-e1bd991b4d05",
   "metadata": {},
   "outputs": [],
   "source": [
    "amt = len(jet_genmass)//2"
   ]
  },
  {
   "cell_type": "code",
   "execution_count": 145,
   "id": "8350905e-a653-411f-b432-abda67067f63",
   "metadata": {},
   "outputs": [
    {
     "name": "stdout",
     "output_type": "stream",
     "text": [
      "150396\n",
      "[[61.2, 379], [36.6, 187], [46.5, ... 1.48e+03], [76.8, 843], [276, 2.56e+03]]\n",
      "[[258, 2.08e+03], [138, 702], [53.7, ... 2.3e+03], [398, 5.96e+03], [148, 2.91e+03]]\n",
      "[[[61.2, 379], [59.6, 392]], [[36.6, ... 921]], [[276, 2.56e+03], [271, 2.63e+03]]]\n"
     ]
    }
   ],
   "source": [
    "# Pretend MC Fat\n",
    "# Pretend Data Gen\n",
    "# Pt, Mass are 2D\n",
    "# Stack both\n",
    "\n",
    "# Split in half to have testing\n",
    "#genjet are MC, True, FatJet be reco\n",
    "#genjet theta G, fatjet, theta S\n",
    "print(amt)\n",
    "theta0_G = np.column_stack((\n",
    "    jet_genmass[:amt],   # 1 dee\n",
    "    jet_genpt[:amt]    # 2 dee\n",
    "))\n",
    "\n",
    "theta0_S = np.column_stack((\n",
    "    jet_recomass[:amt],   # 1 dee\n",
    "    jet_recopt[:amt]    # 2 dee\n",
    "))\n",
    "\n",
    "\n",
    "# Natural\n",
    "theta_unknown_G = np.column_stack([\n",
    "    jet_genmass[amt:],   # 1 dee\n",
    "    jet_genpt[amt:]    # 2 dee\n",
    "])\n",
    "\n",
    "theta_unknown_S = np.column_stack([\n",
    "    jet_recomass[amt:],   # 1 dee\n",
    "    jet_recopt[amt:]    # 2 dee\n",
    "])\n",
    "\n",
    "theta0 = np.stack((theta0_G, theta0_S), axis=1)\n",
    "\n",
    "print(theta0_G)\n",
    "print(theta_unknown_G)\n",
    "print(theta0)"
   ]
  },
  {
   "cell_type": "code",
   "execution_count": null,
   "id": "7965323a-0f26-492d-96d1-c3aa8f052446",
   "metadata": {},
   "outputs": [],
   "source": []
  }
 ],
 "metadata": {
  "kernelspec": {
   "display_name": "Python 3 (ipykernel)",
   "language": "python",
   "name": "python3"
  },
  "language_info": {
   "codemirror_mode": {
    "name": "ipython",
    "version": 3
   },
   "file_extension": ".py",
   "mimetype": "text/x-python",
   "name": "python",
   "nbconvert_exporter": "python",
   "pygments_lexer": "ipython3",
   "version": "3.11.5"
  }
 },
 "nbformat": 4,
 "nbformat_minor": 5
}
